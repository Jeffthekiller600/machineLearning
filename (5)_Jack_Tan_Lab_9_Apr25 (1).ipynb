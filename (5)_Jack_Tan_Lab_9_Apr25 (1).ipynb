{
  "cells": [
    {
      "cell_type": "markdown",
      "metadata": {
        "id": "UknkhjMpVm9L"
      },
      "source": [
        "#**Do fill in the details before you submit the file on BrightSpace. Rename the Colab file as well to your Name_Student No.ipynb**\n",
        "\n",
        "---\n",
        "\n",
        "\n",
        "##Name : Jack Tan\n",
        "##Student ID : s10255823E\n",
        "##Class : IPDS\n",
        "\n",
        "\n",
        "\n",
        "\n",
        "---\n",
        "\n"
      ]
    },
    {
      "cell_type": "markdown",
      "metadata": {
        "id": "A_Ka0eoRhiNM"
      },
      "source": [
        "#### The dataset contains meteorological data from the HI-SEAS Habitat in Hawaii. In particular the dataset includes observations of:\n",
        "\n",
        "1.   Solar Irradiance (W/m2)\n",
        "2.   Temperature (°F)\n",
        "3.   Barometric Pressure (Hg)\n",
        "4.   Humidity (%)\n",
        "5.   Wind Direction (°)\n",
        "6.   Wind Speed (mph)\n",
        "7.   Sun Rise/Set Time\n",
        "\n",
        "---\n",
        "\n",
        "#### **Aim**\n",
        " To accurately model solar irradiance from other meteorological parameters contained within the dataset.\n",
        "\n",
        "---\n",
        "\n"
      ]
    },
    {
      "cell_type": "markdown",
      "metadata": {
        "id": "eU_ZgWs8lo_K"
      },
      "source": [
        "##**Question**\n",
        "\n",
        "**What type of ML model are we training here?**\n",
        "\n",
        "\n",
        "**Supervised/Unsupervised [Choose one]**\n",
        "\n",
        "\n",
        "**Classification/Regression [Choose one]**\n",
        "\n",
        "\n",
        "\n",
        "---\n"
      ]
    },
    {
      "cell_type": "markdown",
      "metadata": {
        "id": "mIsxoyZZ8FAd"
      },
      "source": [
        "#**Environment preparation**\n",
        "Import other relevant libraries"
      ]
    },
    {
      "cell_type": "code",
      "execution_count": null,
      "metadata": {
        "id": "YzXOg5LApMPk"
      },
      "outputs": [],
      "source": [
        "import numpy as np\n",
        "import matplotlib.pyplot as plt\n",
        "import seaborn as sns\n",
        "import pandas as pd\n",
        "from datetime import datetime\n",
        "from pytz import timezone\n",
        "import pytz"
      ]
    },
    {
      "cell_type": "markdown",
      "metadata": {
        "id": "WRVC_X2xeW71"
      },
      "source": [
        "\n",
        "#**Read data file and prepare time series data**\n",
        "1. Read in the relevant data file content into a Dataframe\n",
        "2. Analyse and understand the data.\n",
        "3. Set the index as datetime field and add more datetime related fields for machine learning.\n"
      ]
    },
    {
      "cell_type": "code",
      "execution_count": null,
      "metadata": {
        "id": "P2XCzUrzpMPo",
        "colab": {
          "base_uri": "https://localhost:8080/",
          "height": 417
        },
        "outputId": "16f4eeda-ab25-4507-c76c-96b01bcbbf14"
      },
      "outputs": [
        {
          "output_type": "stream",
          "name": "stdout",
          "text": [
            "(32686, 11)\n"
          ]
        },
        {
          "output_type": "execute_result",
          "data": {
            "text/plain": [
              "        UNIXTime                  Data      Time  Radiation  Temperature  \\\n",
              "7416  1472724008  9/1/2016 12:00:00 AM  00:00:08       2.58           51   \n",
              "7415  1472724310  9/1/2016 12:00:00 AM  00:05:10       2.83           51   \n",
              "7414  1472725206  9/1/2016 12:00:00 AM  00:20:06       2.16           51   \n",
              "7413  1472725505  9/1/2016 12:00:00 AM  00:25:05       2.21           51   \n",
              "7412  1472725809  9/1/2016 12:00:00 AM  00:30:09       2.25           51   \n",
              "\n",
              "      Pressure  Humidity  WindDirection(Degrees)  Speed TimeSunRise TimeSunSet  \n",
              "7416     30.43       103                   77.27  11.25    06:07:00   18:38:00  \n",
              "7415     30.43       103                  153.44   9.00    06:07:00   18:38:00  \n",
              "7414     30.43       103                  142.04   7.87    06:07:00   18:38:00  \n",
              "7413     30.43       103                  144.12  18.00    06:07:00   18:38:00  \n",
              "7412     30.43       103                   67.42  11.25    06:07:00   18:38:00  "
            ],
            "text/html": [
              "\n",
              "  <div id=\"df-cc17a09e-4fd8-4cdc-8ce9-db544ed32b75\" class=\"colab-df-container\">\n",
              "    <div>\n",
              "<style scoped>\n",
              "    .dataframe tbody tr th:only-of-type {\n",
              "        vertical-align: middle;\n",
              "    }\n",
              "\n",
              "    .dataframe tbody tr th {\n",
              "        vertical-align: top;\n",
              "    }\n",
              "\n",
              "    .dataframe thead th {\n",
              "        text-align: right;\n",
              "    }\n",
              "</style>\n",
              "<table border=\"1\" class=\"dataframe\">\n",
              "  <thead>\n",
              "    <tr style=\"text-align: right;\">\n",
              "      <th></th>\n",
              "      <th>UNIXTime</th>\n",
              "      <th>Data</th>\n",
              "      <th>Time</th>\n",
              "      <th>Radiation</th>\n",
              "      <th>Temperature</th>\n",
              "      <th>Pressure</th>\n",
              "      <th>Humidity</th>\n",
              "      <th>WindDirection(Degrees)</th>\n",
              "      <th>Speed</th>\n",
              "      <th>TimeSunRise</th>\n",
              "      <th>TimeSunSet</th>\n",
              "    </tr>\n",
              "  </thead>\n",
              "  <tbody>\n",
              "    <tr>\n",
              "      <th>7416</th>\n",
              "      <td>1472724008</td>\n",
              "      <td>9/1/2016 12:00:00 AM</td>\n",
              "      <td>00:00:08</td>\n",
              "      <td>2.58</td>\n",
              "      <td>51</td>\n",
              "      <td>30.43</td>\n",
              "      <td>103</td>\n",
              "      <td>77.27</td>\n",
              "      <td>11.25</td>\n",
              "      <td>06:07:00</td>\n",
              "      <td>18:38:00</td>\n",
              "    </tr>\n",
              "    <tr>\n",
              "      <th>7415</th>\n",
              "      <td>1472724310</td>\n",
              "      <td>9/1/2016 12:00:00 AM</td>\n",
              "      <td>00:05:10</td>\n",
              "      <td>2.83</td>\n",
              "      <td>51</td>\n",
              "      <td>30.43</td>\n",
              "      <td>103</td>\n",
              "      <td>153.44</td>\n",
              "      <td>9.00</td>\n",
              "      <td>06:07:00</td>\n",
              "      <td>18:38:00</td>\n",
              "    </tr>\n",
              "    <tr>\n",
              "      <th>7414</th>\n",
              "      <td>1472725206</td>\n",
              "      <td>9/1/2016 12:00:00 AM</td>\n",
              "      <td>00:20:06</td>\n",
              "      <td>2.16</td>\n",
              "      <td>51</td>\n",
              "      <td>30.43</td>\n",
              "      <td>103</td>\n",
              "      <td>142.04</td>\n",
              "      <td>7.87</td>\n",
              "      <td>06:07:00</td>\n",
              "      <td>18:38:00</td>\n",
              "    </tr>\n",
              "    <tr>\n",
              "      <th>7413</th>\n",
              "      <td>1472725505</td>\n",
              "      <td>9/1/2016 12:00:00 AM</td>\n",
              "      <td>00:25:05</td>\n",
              "      <td>2.21</td>\n",
              "      <td>51</td>\n",
              "      <td>30.43</td>\n",
              "      <td>103</td>\n",
              "      <td>144.12</td>\n",
              "      <td>18.00</td>\n",
              "      <td>06:07:00</td>\n",
              "      <td>18:38:00</td>\n",
              "    </tr>\n",
              "    <tr>\n",
              "      <th>7412</th>\n",
              "      <td>1472725809</td>\n",
              "      <td>9/1/2016 12:00:00 AM</td>\n",
              "      <td>00:30:09</td>\n",
              "      <td>2.25</td>\n",
              "      <td>51</td>\n",
              "      <td>30.43</td>\n",
              "      <td>103</td>\n",
              "      <td>67.42</td>\n",
              "      <td>11.25</td>\n",
              "      <td>06:07:00</td>\n",
              "      <td>18:38:00</td>\n",
              "    </tr>\n",
              "  </tbody>\n",
              "</table>\n",
              "</div>\n",
              "    <div class=\"colab-df-buttons\">\n",
              "\n",
              "  <div class=\"colab-df-container\">\n",
              "    <button class=\"colab-df-convert\" onclick=\"convertToInteractive('df-cc17a09e-4fd8-4cdc-8ce9-db544ed32b75')\"\n",
              "            title=\"Convert this dataframe to an interactive table.\"\n",
              "            style=\"display:none;\">\n",
              "\n",
              "  <svg xmlns=\"http://www.w3.org/2000/svg\" height=\"24px\" viewBox=\"0 -960 960 960\">\n",
              "    <path d=\"M120-120v-720h720v720H120Zm60-500h600v-160H180v160Zm220 220h160v-160H400v160Zm0 220h160v-160H400v160ZM180-400h160v-160H180v160Zm440 0h160v-160H620v160ZM180-180h160v-160H180v160Zm440 0h160v-160H620v160Z\"/>\n",
              "  </svg>\n",
              "    </button>\n",
              "\n",
              "  <style>\n",
              "    .colab-df-container {\n",
              "      display:flex;\n",
              "      gap: 12px;\n",
              "    }\n",
              "\n",
              "    .colab-df-convert {\n",
              "      background-color: #E8F0FE;\n",
              "      border: none;\n",
              "      border-radius: 50%;\n",
              "      cursor: pointer;\n",
              "      display: none;\n",
              "      fill: #1967D2;\n",
              "      height: 32px;\n",
              "      padding: 0 0 0 0;\n",
              "      width: 32px;\n",
              "    }\n",
              "\n",
              "    .colab-df-convert:hover {\n",
              "      background-color: #E2EBFA;\n",
              "      box-shadow: 0px 1px 2px rgba(60, 64, 67, 0.3), 0px 1px 3px 1px rgba(60, 64, 67, 0.15);\n",
              "      fill: #174EA6;\n",
              "    }\n",
              "\n",
              "    .colab-df-buttons div {\n",
              "      margin-bottom: 4px;\n",
              "    }\n",
              "\n",
              "    [theme=dark] .colab-df-convert {\n",
              "      background-color: #3B4455;\n",
              "      fill: #D2E3FC;\n",
              "    }\n",
              "\n",
              "    [theme=dark] .colab-df-convert:hover {\n",
              "      background-color: #434B5C;\n",
              "      box-shadow: 0px 1px 3px 1px rgba(0, 0, 0, 0.15);\n",
              "      filter: drop-shadow(0px 1px 2px rgba(0, 0, 0, 0.3));\n",
              "      fill: #FFFFFF;\n",
              "    }\n",
              "  </style>\n",
              "\n",
              "    <script>\n",
              "      const buttonEl =\n",
              "        document.querySelector('#df-cc17a09e-4fd8-4cdc-8ce9-db544ed32b75 button.colab-df-convert');\n",
              "      buttonEl.style.display =\n",
              "        google.colab.kernel.accessAllowed ? 'block' : 'none';\n",
              "\n",
              "      async function convertToInteractive(key) {\n",
              "        const element = document.querySelector('#df-cc17a09e-4fd8-4cdc-8ce9-db544ed32b75');\n",
              "        const dataTable =\n",
              "          await google.colab.kernel.invokeFunction('convertToInteractive',\n",
              "                                                    [key], {});\n",
              "        if (!dataTable) return;\n",
              "\n",
              "        const docLinkHtml = 'Like what you see? Visit the ' +\n",
              "          '<a target=\"_blank\" href=https://colab.research.google.com/notebooks/data_table.ipynb>data table notebook</a>'\n",
              "          + ' to learn more about interactive tables.';\n",
              "        element.innerHTML = '';\n",
              "        dataTable['output_type'] = 'display_data';\n",
              "        await google.colab.output.renderOutput(dataTable, element);\n",
              "        const docLink = document.createElement('div');\n",
              "        docLink.innerHTML = docLinkHtml;\n",
              "        element.appendChild(docLink);\n",
              "      }\n",
              "    </script>\n",
              "  </div>\n",
              "\n",
              "\n",
              "    <div id=\"df-7fa009c2-face-4671-8973-279bc184fcdf\">\n",
              "      <button class=\"colab-df-quickchart\" onclick=\"quickchart('df-7fa009c2-face-4671-8973-279bc184fcdf')\"\n",
              "                title=\"Suggest charts\"\n",
              "                style=\"display:none;\">\n",
              "\n",
              "<svg xmlns=\"http://www.w3.org/2000/svg\" height=\"24px\"viewBox=\"0 0 24 24\"\n",
              "     width=\"24px\">\n",
              "    <g>\n",
              "        <path d=\"M19 3H5c-1.1 0-2 .9-2 2v14c0 1.1.9 2 2 2h14c1.1 0 2-.9 2-2V5c0-1.1-.9-2-2-2zM9 17H7v-7h2v7zm4 0h-2V7h2v10zm4 0h-2v-4h2v4z\"/>\n",
              "    </g>\n",
              "</svg>\n",
              "      </button>\n",
              "\n",
              "<style>\n",
              "  .colab-df-quickchart {\n",
              "      --bg-color: #E8F0FE;\n",
              "      --fill-color: #1967D2;\n",
              "      --hover-bg-color: #E2EBFA;\n",
              "      --hover-fill-color: #174EA6;\n",
              "      --disabled-fill-color: #AAA;\n",
              "      --disabled-bg-color: #DDD;\n",
              "  }\n",
              "\n",
              "  [theme=dark] .colab-df-quickchart {\n",
              "      --bg-color: #3B4455;\n",
              "      --fill-color: #D2E3FC;\n",
              "      --hover-bg-color: #434B5C;\n",
              "      --hover-fill-color: #FFFFFF;\n",
              "      --disabled-bg-color: #3B4455;\n",
              "      --disabled-fill-color: #666;\n",
              "  }\n",
              "\n",
              "  .colab-df-quickchart {\n",
              "    background-color: var(--bg-color);\n",
              "    border: none;\n",
              "    border-radius: 50%;\n",
              "    cursor: pointer;\n",
              "    display: none;\n",
              "    fill: var(--fill-color);\n",
              "    height: 32px;\n",
              "    padding: 0;\n",
              "    width: 32px;\n",
              "  }\n",
              "\n",
              "  .colab-df-quickchart:hover {\n",
              "    background-color: var(--hover-bg-color);\n",
              "    box-shadow: 0 1px 2px rgba(60, 64, 67, 0.3), 0 1px 3px 1px rgba(60, 64, 67, 0.15);\n",
              "    fill: var(--button-hover-fill-color);\n",
              "  }\n",
              "\n",
              "  .colab-df-quickchart-complete:disabled,\n",
              "  .colab-df-quickchart-complete:disabled:hover {\n",
              "    background-color: var(--disabled-bg-color);\n",
              "    fill: var(--disabled-fill-color);\n",
              "    box-shadow: none;\n",
              "  }\n",
              "\n",
              "  .colab-df-spinner {\n",
              "    border: 2px solid var(--fill-color);\n",
              "    border-color: transparent;\n",
              "    border-bottom-color: var(--fill-color);\n",
              "    animation:\n",
              "      spin 1s steps(1) infinite;\n",
              "  }\n",
              "\n",
              "  @keyframes spin {\n",
              "    0% {\n",
              "      border-color: transparent;\n",
              "      border-bottom-color: var(--fill-color);\n",
              "      border-left-color: var(--fill-color);\n",
              "    }\n",
              "    20% {\n",
              "      border-color: transparent;\n",
              "      border-left-color: var(--fill-color);\n",
              "      border-top-color: var(--fill-color);\n",
              "    }\n",
              "    30% {\n",
              "      border-color: transparent;\n",
              "      border-left-color: var(--fill-color);\n",
              "      border-top-color: var(--fill-color);\n",
              "      border-right-color: var(--fill-color);\n",
              "    }\n",
              "    40% {\n",
              "      border-color: transparent;\n",
              "      border-right-color: var(--fill-color);\n",
              "      border-top-color: var(--fill-color);\n",
              "    }\n",
              "    60% {\n",
              "      border-color: transparent;\n",
              "      border-right-color: var(--fill-color);\n",
              "    }\n",
              "    80% {\n",
              "      border-color: transparent;\n",
              "      border-right-color: var(--fill-color);\n",
              "      border-bottom-color: var(--fill-color);\n",
              "    }\n",
              "    90% {\n",
              "      border-color: transparent;\n",
              "      border-bottom-color: var(--fill-color);\n",
              "    }\n",
              "  }\n",
              "</style>\n",
              "\n",
              "      <script>\n",
              "        async function quickchart(key) {\n",
              "          const quickchartButtonEl =\n",
              "            document.querySelector('#' + key + ' button');\n",
              "          quickchartButtonEl.disabled = true;  // To prevent multiple clicks.\n",
              "          quickchartButtonEl.classList.add('colab-df-spinner');\n",
              "          try {\n",
              "            const charts = await google.colab.kernel.invokeFunction(\n",
              "                'suggestCharts', [key], {});\n",
              "          } catch (error) {\n",
              "            console.error('Error during call to suggestCharts:', error);\n",
              "          }\n",
              "          quickchartButtonEl.classList.remove('colab-df-spinner');\n",
              "          quickchartButtonEl.classList.add('colab-df-quickchart-complete');\n",
              "        }\n",
              "        (() => {\n",
              "          let quickchartButtonEl =\n",
              "            document.querySelector('#df-7fa009c2-face-4671-8973-279bc184fcdf button');\n",
              "          quickchartButtonEl.style.display =\n",
              "            google.colab.kernel.accessAllowed ? 'block' : 'none';\n",
              "        })();\n",
              "      </script>\n",
              "    </div>\n",
              "\n",
              "    </div>\n",
              "  </div>\n"
            ],
            "application/vnd.google.colaboratory.intrinsic+json": {
              "type": "dataframe",
              "variable_name": "dataset",
              "summary": "{\n  \"name\": \"dataset\",\n  \"rows\": 32686,\n  \"fields\": [\n    {\n      \"column\": \"UNIXTime\",\n      \"properties\": {\n        \"dtype\": \"number\",\n        \"std\": 3005036,\n        \"min\": 1472724008,\n        \"max\": 1483264501,\n        \"num_unique_values\": 32686,\n        \"samples\": [\n          1479757202,\n          1474110605,\n          1477215918\n        ],\n        \"semantic_type\": \"\",\n        \"description\": \"\"\n      }\n    },\n    {\n      \"column\": \"Data\",\n      \"properties\": {\n        \"dtype\": \"object\",\n        \"num_unique_values\": 118,\n        \"samples\": [\n          \"10/28/2016 12:00:00 AM\",\n          \"12/1/2016 12:00:00 AM\",\n          \"9/5/2016 12:00:00 AM\"\n        ],\n        \"semantic_type\": \"\",\n        \"description\": \"\"\n      }\n    },\n    {\n      \"column\": \"Time\",\n      \"properties\": {\n        \"dtype\": \"object\",\n        \"num_unique_values\": 8299,\n        \"samples\": [\n          \"19:45:33\",\n          \"07:20:33\",\n          \"14:05:19\"\n        ],\n        \"semantic_type\": \"\",\n        \"description\": \"\"\n      }\n    },\n    {\n      \"column\": \"Radiation\",\n      \"properties\": {\n        \"dtype\": \"number\",\n        \"std\": 315.9163871950976,\n        \"min\": 1.11,\n        \"max\": 1601.26,\n        \"num_unique_values\": 14434,\n        \"samples\": [\n          280.08,\n          77.75,\n          682.87\n        ],\n        \"semantic_type\": \"\",\n        \"description\": \"\"\n      }\n    },\n    {\n      \"column\": \"Temperature\",\n      \"properties\": {\n        \"dtype\": \"number\",\n        \"std\": 6,\n        \"min\": 34,\n        \"max\": 71,\n        \"num_unique_values\": 38,\n        \"samples\": [\n          38,\n          35,\n          48\n        ],\n        \"semantic_type\": \"\",\n        \"description\": \"\"\n      }\n    },\n    {\n      \"column\": \"Pressure\",\n      \"properties\": {\n        \"dtype\": \"number\",\n        \"std\": 0.05467315506388656,\n        \"min\": 30.19,\n        \"max\": 30.56,\n        \"num_unique_values\": 38,\n        \"samples\": [\n          30.21,\n          30.55,\n          30.44\n        ],\n        \"semantic_type\": \"\",\n        \"description\": \"\"\n      }\n    },\n    {\n      \"column\": \"Humidity\",\n      \"properties\": {\n        \"dtype\": \"number\",\n        \"std\": 25,\n        \"min\": 8,\n        \"max\": 103,\n        \"num_unique_values\": 94,\n        \"samples\": [\n          53,\n          85,\n          38\n        ],\n        \"semantic_type\": \"\",\n        \"description\": \"\"\n      }\n    },\n    {\n      \"column\": \"WindDirection(Degrees)\",\n      \"properties\": {\n        \"dtype\": \"number\",\n        \"std\": 83.16749964761793,\n        \"min\": 0.09,\n        \"max\": 359.95,\n        \"num_unique_values\": 17951,\n        \"samples\": [\n          76.85,\n          258.54,\n          168.49\n        ],\n        \"semantic_type\": \"\",\n        \"description\": \"\"\n      }\n    },\n    {\n      \"column\": \"Speed\",\n      \"properties\": {\n        \"dtype\": \"number\",\n        \"std\": 3.4904735500656114,\n        \"min\": 0.0,\n        \"max\": 40.5,\n        \"num_unique_values\": 37,\n        \"samples\": [\n          20.25,\n          16.87,\n          4.5\n        ],\n        \"semantic_type\": \"\",\n        \"description\": \"\"\n      }\n    },\n    {\n      \"column\": \"TimeSunRise\",\n      \"properties\": {\n        \"dtype\": \"object\",\n        \"num_unique_values\": 51,\n        \"samples\": [\n          \"06:50:00\",\n          \"06:47:00\",\n          \"06:53:00\"\n        ],\n        \"semantic_type\": \"\",\n        \"description\": \"\"\n      }\n    },\n    {\n      \"column\": \"TimeSunSet\",\n      \"properties\": {\n        \"dtype\": \"object\",\n        \"num_unique_values\": 56,\n        \"samples\": [\n          \"18:38:00\",\n          \"18:33:00\",\n          \"18:04:00\"\n        ],\n        \"semantic_type\": \"\",\n        \"description\": \"\"\n      }\n    }\n  ]\n}"
            }
          },
          "metadata": {},
          "execution_count": 4
        }
      ],
      "source": [
        "dataset = pd.read_csv('/content/SolarPrediction.csv')\n",
        "dataset = dataset.sort_values(['UNIXTime'], ascending = [True])\n",
        "print(dataset.shape)\n",
        "dataset.head()"
      ]
    },
    {
      "cell_type": "code",
      "execution_count": null,
      "metadata": {
        "id": "OshH4yDHAyfZ",
        "colab": {
          "base_uri": "https://localhost:8080/"
        },
        "outputId": "52336d0c-2fa9-4f78-fdb3-38a25ec37386"
      },
      "outputs": [
        {
          "output_type": "execute_result",
          "data": {
            "text/plain": [
              "Index(['UNIXTime', 'Data', 'Time', 'Radiation', 'Temperature', 'Pressure',\n",
              "       'Humidity', 'WindDirection(Degrees)', 'Speed', 'TimeSunRise',\n",
              "       'TimeSunSet'],\n",
              "      dtype='object')"
            ]
          },
          "metadata": {},
          "execution_count": 6
        }
      ],
      "source": [
        "dataset.columns"
      ]
    },
    {
      "cell_type": "code",
      "execution_count": null,
      "metadata": {
        "id": "e26zOUfypMPp",
        "colab": {
          "base_uri": "https://localhost:8080/",
          "height": 320
        },
        "outputId": "c433cff6-2b85-4708-cdf1-8ca94a2de46c"
      },
      "outputs": [
        {
          "output_type": "execute_result",
          "data": {
            "text/plain": [
              "           UNIXTime     Radiation   Temperature      Pressure      Humidity  \\\n",
              "count  3.268600e+04  32686.000000  32686.000000  32686.000000  32686.000000   \n",
              "mean   1.478047e+09    207.124697     51.103255     30.422879     75.016307   \n",
              "std    3.005037e+06    315.916387      6.201157      0.054673     25.990219   \n",
              "min    1.472724e+09      1.110000     34.000000     30.190000      8.000000   \n",
              "25%    1.475546e+09      1.230000     46.000000     30.400000     56.000000   \n",
              "50%    1.478026e+09      2.660000     50.000000     30.430000     85.000000   \n",
              "75%    1.480480e+09    354.235000     55.000000     30.460000     97.000000   \n",
              "max    1.483265e+09   1601.260000     71.000000     30.560000    103.000000   \n",
              "\n",
              "       WindDirection(Degrees)         Speed  \n",
              "count            32686.000000  32686.000000  \n",
              "mean               143.489821      6.243869  \n",
              "std                 83.167500      3.490474  \n",
              "min                  0.090000      0.000000  \n",
              "25%                 82.227500      3.370000  \n",
              "50%                147.700000      5.620000  \n",
              "75%                179.310000      7.870000  \n",
              "max                359.950000     40.500000  "
            ],
            "text/html": [
              "\n",
              "  <div id=\"df-81c3d87d-8929-4e50-a2b3-1667d3227034\" class=\"colab-df-container\">\n",
              "    <div>\n",
              "<style scoped>\n",
              "    .dataframe tbody tr th:only-of-type {\n",
              "        vertical-align: middle;\n",
              "    }\n",
              "\n",
              "    .dataframe tbody tr th {\n",
              "        vertical-align: top;\n",
              "    }\n",
              "\n",
              "    .dataframe thead th {\n",
              "        text-align: right;\n",
              "    }\n",
              "</style>\n",
              "<table border=\"1\" class=\"dataframe\">\n",
              "  <thead>\n",
              "    <tr style=\"text-align: right;\">\n",
              "      <th></th>\n",
              "      <th>UNIXTime</th>\n",
              "      <th>Radiation</th>\n",
              "      <th>Temperature</th>\n",
              "      <th>Pressure</th>\n",
              "      <th>Humidity</th>\n",
              "      <th>WindDirection(Degrees)</th>\n",
              "      <th>Speed</th>\n",
              "    </tr>\n",
              "  </thead>\n",
              "  <tbody>\n",
              "    <tr>\n",
              "      <th>count</th>\n",
              "      <td>3.268600e+04</td>\n",
              "      <td>32686.000000</td>\n",
              "      <td>32686.000000</td>\n",
              "      <td>32686.000000</td>\n",
              "      <td>32686.000000</td>\n",
              "      <td>32686.000000</td>\n",
              "      <td>32686.000000</td>\n",
              "    </tr>\n",
              "    <tr>\n",
              "      <th>mean</th>\n",
              "      <td>1.478047e+09</td>\n",
              "      <td>207.124697</td>\n",
              "      <td>51.103255</td>\n",
              "      <td>30.422879</td>\n",
              "      <td>75.016307</td>\n",
              "      <td>143.489821</td>\n",
              "      <td>6.243869</td>\n",
              "    </tr>\n",
              "    <tr>\n",
              "      <th>std</th>\n",
              "      <td>3.005037e+06</td>\n",
              "      <td>315.916387</td>\n",
              "      <td>6.201157</td>\n",
              "      <td>0.054673</td>\n",
              "      <td>25.990219</td>\n",
              "      <td>83.167500</td>\n",
              "      <td>3.490474</td>\n",
              "    </tr>\n",
              "    <tr>\n",
              "      <th>min</th>\n",
              "      <td>1.472724e+09</td>\n",
              "      <td>1.110000</td>\n",
              "      <td>34.000000</td>\n",
              "      <td>30.190000</td>\n",
              "      <td>8.000000</td>\n",
              "      <td>0.090000</td>\n",
              "      <td>0.000000</td>\n",
              "    </tr>\n",
              "    <tr>\n",
              "      <th>25%</th>\n",
              "      <td>1.475546e+09</td>\n",
              "      <td>1.230000</td>\n",
              "      <td>46.000000</td>\n",
              "      <td>30.400000</td>\n",
              "      <td>56.000000</td>\n",
              "      <td>82.227500</td>\n",
              "      <td>3.370000</td>\n",
              "    </tr>\n",
              "    <tr>\n",
              "      <th>50%</th>\n",
              "      <td>1.478026e+09</td>\n",
              "      <td>2.660000</td>\n",
              "      <td>50.000000</td>\n",
              "      <td>30.430000</td>\n",
              "      <td>85.000000</td>\n",
              "      <td>147.700000</td>\n",
              "      <td>5.620000</td>\n",
              "    </tr>\n",
              "    <tr>\n",
              "      <th>75%</th>\n",
              "      <td>1.480480e+09</td>\n",
              "      <td>354.235000</td>\n",
              "      <td>55.000000</td>\n",
              "      <td>30.460000</td>\n",
              "      <td>97.000000</td>\n",
              "      <td>179.310000</td>\n",
              "      <td>7.870000</td>\n",
              "    </tr>\n",
              "    <tr>\n",
              "      <th>max</th>\n",
              "      <td>1.483265e+09</td>\n",
              "      <td>1601.260000</td>\n",
              "      <td>71.000000</td>\n",
              "      <td>30.560000</td>\n",
              "      <td>103.000000</td>\n",
              "      <td>359.950000</td>\n",
              "      <td>40.500000</td>\n",
              "    </tr>\n",
              "  </tbody>\n",
              "</table>\n",
              "</div>\n",
              "    <div class=\"colab-df-buttons\">\n",
              "\n",
              "  <div class=\"colab-df-container\">\n",
              "    <button class=\"colab-df-convert\" onclick=\"convertToInteractive('df-81c3d87d-8929-4e50-a2b3-1667d3227034')\"\n",
              "            title=\"Convert this dataframe to an interactive table.\"\n",
              "            style=\"display:none;\">\n",
              "\n",
              "  <svg xmlns=\"http://www.w3.org/2000/svg\" height=\"24px\" viewBox=\"0 -960 960 960\">\n",
              "    <path d=\"M120-120v-720h720v720H120Zm60-500h600v-160H180v160Zm220 220h160v-160H400v160Zm0 220h160v-160H400v160ZM180-400h160v-160H180v160Zm440 0h160v-160H620v160ZM180-180h160v-160H180v160Zm440 0h160v-160H620v160Z\"/>\n",
              "  </svg>\n",
              "    </button>\n",
              "\n",
              "  <style>\n",
              "    .colab-df-container {\n",
              "      display:flex;\n",
              "      gap: 12px;\n",
              "    }\n",
              "\n",
              "    .colab-df-convert {\n",
              "      background-color: #E8F0FE;\n",
              "      border: none;\n",
              "      border-radius: 50%;\n",
              "      cursor: pointer;\n",
              "      display: none;\n",
              "      fill: #1967D2;\n",
              "      height: 32px;\n",
              "      padding: 0 0 0 0;\n",
              "      width: 32px;\n",
              "    }\n",
              "\n",
              "    .colab-df-convert:hover {\n",
              "      background-color: #E2EBFA;\n",
              "      box-shadow: 0px 1px 2px rgba(60, 64, 67, 0.3), 0px 1px 3px 1px rgba(60, 64, 67, 0.15);\n",
              "      fill: #174EA6;\n",
              "    }\n",
              "\n",
              "    .colab-df-buttons div {\n",
              "      margin-bottom: 4px;\n",
              "    }\n",
              "\n",
              "    [theme=dark] .colab-df-convert {\n",
              "      background-color: #3B4455;\n",
              "      fill: #D2E3FC;\n",
              "    }\n",
              "\n",
              "    [theme=dark] .colab-df-convert:hover {\n",
              "      background-color: #434B5C;\n",
              "      box-shadow: 0px 1px 3px 1px rgba(0, 0, 0, 0.15);\n",
              "      filter: drop-shadow(0px 1px 2px rgba(0, 0, 0, 0.3));\n",
              "      fill: #FFFFFF;\n",
              "    }\n",
              "  </style>\n",
              "\n",
              "    <script>\n",
              "      const buttonEl =\n",
              "        document.querySelector('#df-81c3d87d-8929-4e50-a2b3-1667d3227034 button.colab-df-convert');\n",
              "      buttonEl.style.display =\n",
              "        google.colab.kernel.accessAllowed ? 'block' : 'none';\n",
              "\n",
              "      async function convertToInteractive(key) {\n",
              "        const element = document.querySelector('#df-81c3d87d-8929-4e50-a2b3-1667d3227034');\n",
              "        const dataTable =\n",
              "          await google.colab.kernel.invokeFunction('convertToInteractive',\n",
              "                                                    [key], {});\n",
              "        if (!dataTable) return;\n",
              "\n",
              "        const docLinkHtml = 'Like what you see? Visit the ' +\n",
              "          '<a target=\"_blank\" href=https://colab.research.google.com/notebooks/data_table.ipynb>data table notebook</a>'\n",
              "          + ' to learn more about interactive tables.';\n",
              "        element.innerHTML = '';\n",
              "        dataTable['output_type'] = 'display_data';\n",
              "        await google.colab.output.renderOutput(dataTable, element);\n",
              "        const docLink = document.createElement('div');\n",
              "        docLink.innerHTML = docLinkHtml;\n",
              "        element.appendChild(docLink);\n",
              "      }\n",
              "    </script>\n",
              "  </div>\n",
              "\n",
              "\n",
              "    <div id=\"df-f1d60ed5-ac0f-4954-b2ee-849fa72329fc\">\n",
              "      <button class=\"colab-df-quickchart\" onclick=\"quickchart('df-f1d60ed5-ac0f-4954-b2ee-849fa72329fc')\"\n",
              "                title=\"Suggest charts\"\n",
              "                style=\"display:none;\">\n",
              "\n",
              "<svg xmlns=\"http://www.w3.org/2000/svg\" height=\"24px\"viewBox=\"0 0 24 24\"\n",
              "     width=\"24px\">\n",
              "    <g>\n",
              "        <path d=\"M19 3H5c-1.1 0-2 .9-2 2v14c0 1.1.9 2 2 2h14c1.1 0 2-.9 2-2V5c0-1.1-.9-2-2-2zM9 17H7v-7h2v7zm4 0h-2V7h2v10zm4 0h-2v-4h2v4z\"/>\n",
              "    </g>\n",
              "</svg>\n",
              "      </button>\n",
              "\n",
              "<style>\n",
              "  .colab-df-quickchart {\n",
              "      --bg-color: #E8F0FE;\n",
              "      --fill-color: #1967D2;\n",
              "      --hover-bg-color: #E2EBFA;\n",
              "      --hover-fill-color: #174EA6;\n",
              "      --disabled-fill-color: #AAA;\n",
              "      --disabled-bg-color: #DDD;\n",
              "  }\n",
              "\n",
              "  [theme=dark] .colab-df-quickchart {\n",
              "      --bg-color: #3B4455;\n",
              "      --fill-color: #D2E3FC;\n",
              "      --hover-bg-color: #434B5C;\n",
              "      --hover-fill-color: #FFFFFF;\n",
              "      --disabled-bg-color: #3B4455;\n",
              "      --disabled-fill-color: #666;\n",
              "  }\n",
              "\n",
              "  .colab-df-quickchart {\n",
              "    background-color: var(--bg-color);\n",
              "    border: none;\n",
              "    border-radius: 50%;\n",
              "    cursor: pointer;\n",
              "    display: none;\n",
              "    fill: var(--fill-color);\n",
              "    height: 32px;\n",
              "    padding: 0;\n",
              "    width: 32px;\n",
              "  }\n",
              "\n",
              "  .colab-df-quickchart:hover {\n",
              "    background-color: var(--hover-bg-color);\n",
              "    box-shadow: 0 1px 2px rgba(60, 64, 67, 0.3), 0 1px 3px 1px rgba(60, 64, 67, 0.15);\n",
              "    fill: var(--button-hover-fill-color);\n",
              "  }\n",
              "\n",
              "  .colab-df-quickchart-complete:disabled,\n",
              "  .colab-df-quickchart-complete:disabled:hover {\n",
              "    background-color: var(--disabled-bg-color);\n",
              "    fill: var(--disabled-fill-color);\n",
              "    box-shadow: none;\n",
              "  }\n",
              "\n",
              "  .colab-df-spinner {\n",
              "    border: 2px solid var(--fill-color);\n",
              "    border-color: transparent;\n",
              "    border-bottom-color: var(--fill-color);\n",
              "    animation:\n",
              "      spin 1s steps(1) infinite;\n",
              "  }\n",
              "\n",
              "  @keyframes spin {\n",
              "    0% {\n",
              "      border-color: transparent;\n",
              "      border-bottom-color: var(--fill-color);\n",
              "      border-left-color: var(--fill-color);\n",
              "    }\n",
              "    20% {\n",
              "      border-color: transparent;\n",
              "      border-left-color: var(--fill-color);\n",
              "      border-top-color: var(--fill-color);\n",
              "    }\n",
              "    30% {\n",
              "      border-color: transparent;\n",
              "      border-left-color: var(--fill-color);\n",
              "      border-top-color: var(--fill-color);\n",
              "      border-right-color: var(--fill-color);\n",
              "    }\n",
              "    40% {\n",
              "      border-color: transparent;\n",
              "      border-right-color: var(--fill-color);\n",
              "      border-top-color: var(--fill-color);\n",
              "    }\n",
              "    60% {\n",
              "      border-color: transparent;\n",
              "      border-right-color: var(--fill-color);\n",
              "    }\n",
              "    80% {\n",
              "      border-color: transparent;\n",
              "      border-right-color: var(--fill-color);\n",
              "      border-bottom-color: var(--fill-color);\n",
              "    }\n",
              "    90% {\n",
              "      border-color: transparent;\n",
              "      border-bottom-color: var(--fill-color);\n",
              "    }\n",
              "  }\n",
              "</style>\n",
              "\n",
              "      <script>\n",
              "        async function quickchart(key) {\n",
              "          const quickchartButtonEl =\n",
              "            document.querySelector('#' + key + ' button');\n",
              "          quickchartButtonEl.disabled = true;  // To prevent multiple clicks.\n",
              "          quickchartButtonEl.classList.add('colab-df-spinner');\n",
              "          try {\n",
              "            const charts = await google.colab.kernel.invokeFunction(\n",
              "                'suggestCharts', [key], {});\n",
              "          } catch (error) {\n",
              "            console.error('Error during call to suggestCharts:', error);\n",
              "          }\n",
              "          quickchartButtonEl.classList.remove('colab-df-spinner');\n",
              "          quickchartButtonEl.classList.add('colab-df-quickchart-complete');\n",
              "        }\n",
              "        (() => {\n",
              "          let quickchartButtonEl =\n",
              "            document.querySelector('#df-f1d60ed5-ac0f-4954-b2ee-849fa72329fc button');\n",
              "          quickchartButtonEl.style.display =\n",
              "            google.colab.kernel.accessAllowed ? 'block' : 'none';\n",
              "        })();\n",
              "      </script>\n",
              "    </div>\n",
              "\n",
              "    </div>\n",
              "  </div>\n"
            ],
            "application/vnd.google.colaboratory.intrinsic+json": {
              "type": "dataframe",
              "summary": "{\n  \"name\": \"dataset\",\n  \"rows\": 8,\n  \"fields\": [\n    {\n      \"column\": \"UNIXTime\",\n      \"properties\": {\n        \"dtype\": \"number\",\n        \"std\": 683492322.2285391,\n        \"min\": 32686.0,\n        \"max\": 1483264501.0,\n        \"num_unique_values\": 8,\n        \"samples\": [\n          1478047264.9448082,\n          1478026069.5,\n          32686.0\n        ],\n        \"semantic_type\": \"\",\n        \"description\": \"\"\n      }\n    },\n    {\n      \"column\": \"Radiation\",\n      \"properties\": {\n        \"dtype\": \"number\",\n        \"std\": 11442.99406434529,\n        \"min\": 1.11,\n        \"max\": 32686.0,\n        \"num_unique_values\": 8,\n        \"samples\": [\n          207.12469742397354,\n          2.66,\n          32686.0\n        ],\n        \"semantic_type\": \"\",\n        \"description\": \"\"\n      }\n    },\n    {\n      \"column\": \"Temperature\",\n      \"properties\": {\n        \"dtype\": \"number\",\n        \"std\": 11540.437120545404,\n        \"min\": 6.201157357039894,\n        \"max\": 32686.0,\n        \"num_unique_values\": 8,\n        \"samples\": [\n          51.10325521630055,\n          50.0,\n          32686.0\n        ],\n        \"semantic_type\": \"\",\n        \"description\": \"\"\n      }\n    },\n    {\n      \"column\": \"Pressure\",\n      \"properties\": {\n        \"dtype\": \"number\",\n        \"std\": 11547.032482738721,\n        \"min\": 0.05467315506388656,\n        \"max\": 32686.0,\n        \"num_unique_values\": 8,\n        \"samples\": [\n          30.42287890840115,\n          30.43,\n          32686.0\n        ],\n        \"semantic_type\": \"\",\n        \"description\": \"\"\n      }\n    },\n    {\n      \"column\": \"Humidity\",\n      \"properties\": {\n        \"dtype\": \"number\",\n        \"std\": 11533.565771775471,\n        \"min\": 8.0,\n        \"max\": 32686.0,\n        \"num_unique_values\": 8,\n        \"samples\": [\n          75.01630667564095,\n          85.0,\n          32686.0\n        ],\n        \"semantic_type\": \"\",\n        \"description\": \"\"\n      }\n    },\n    {\n      \"column\": \"WindDirection(Degrees)\",\n      \"properties\": {\n        \"dtype\": \"number\",\n        \"std\": 11506.416242655232,\n        \"min\": 0.09,\n        \"max\": 32686.0,\n        \"num_unique_values\": 8,\n        \"samples\": [\n          143.48982071835033,\n          147.7,\n          32686.0\n        ],\n        \"semantic_type\": \"\",\n        \"description\": \"\"\n      }\n    },\n    {\n      \"column\": \"Speed\",\n      \"properties\": {\n        \"dtype\": \"number\",\n        \"std\": 11552.864478864352,\n        \"min\": 0.0,\n        \"max\": 32686.0,\n        \"num_unique_values\": 8,\n        \"samples\": [\n          6.243869240653491,\n          5.62,\n          32686.0\n        ],\n        \"semantic_type\": \"\",\n        \"description\": \"\"\n      }\n    }\n  ]\n}"
            }
          },
          "metadata": {},
          "execution_count": 7
        }
      ],
      "source": [
        "dataset.describe()"
      ]
    },
    {
      "cell_type": "code",
      "execution_count": null,
      "metadata": {
        "id": "ZgML2hJmpMPp",
        "colab": {
          "base_uri": "https://localhost:8080/",
          "height": 429
        },
        "outputId": "83734bf4-e552-4678-89e4-f3814b3472dc"
      },
      "outputs": [
        {
          "output_type": "execute_result",
          "data": {
            "text/plain": [
              "UNIXTime                  0\n",
              "Data                      0\n",
              "Time                      0\n",
              "Radiation                 0\n",
              "Temperature               0\n",
              "Pressure                  0\n",
              "Humidity                  0\n",
              "WindDirection(Degrees)    0\n",
              "Speed                     0\n",
              "TimeSunRise               0\n",
              "TimeSunSet                0\n",
              "dtype: int64"
            ],
            "text/html": [
              "<div>\n",
              "<style scoped>\n",
              "    .dataframe tbody tr th:only-of-type {\n",
              "        vertical-align: middle;\n",
              "    }\n",
              "\n",
              "    .dataframe tbody tr th {\n",
              "        vertical-align: top;\n",
              "    }\n",
              "\n",
              "    .dataframe thead th {\n",
              "        text-align: right;\n",
              "    }\n",
              "</style>\n",
              "<table border=\"1\" class=\"dataframe\">\n",
              "  <thead>\n",
              "    <tr style=\"text-align: right;\">\n",
              "      <th></th>\n",
              "      <th>0</th>\n",
              "    </tr>\n",
              "  </thead>\n",
              "  <tbody>\n",
              "    <tr>\n",
              "      <th>UNIXTime</th>\n",
              "      <td>0</td>\n",
              "    </tr>\n",
              "    <tr>\n",
              "      <th>Data</th>\n",
              "      <td>0</td>\n",
              "    </tr>\n",
              "    <tr>\n",
              "      <th>Time</th>\n",
              "      <td>0</td>\n",
              "    </tr>\n",
              "    <tr>\n",
              "      <th>Radiation</th>\n",
              "      <td>0</td>\n",
              "    </tr>\n",
              "    <tr>\n",
              "      <th>Temperature</th>\n",
              "      <td>0</td>\n",
              "    </tr>\n",
              "    <tr>\n",
              "      <th>Pressure</th>\n",
              "      <td>0</td>\n",
              "    </tr>\n",
              "    <tr>\n",
              "      <th>Humidity</th>\n",
              "      <td>0</td>\n",
              "    </tr>\n",
              "    <tr>\n",
              "      <th>WindDirection(Degrees)</th>\n",
              "      <td>0</td>\n",
              "    </tr>\n",
              "    <tr>\n",
              "      <th>Speed</th>\n",
              "      <td>0</td>\n",
              "    </tr>\n",
              "    <tr>\n",
              "      <th>TimeSunRise</th>\n",
              "      <td>0</td>\n",
              "    </tr>\n",
              "    <tr>\n",
              "      <th>TimeSunSet</th>\n",
              "      <td>0</td>\n",
              "    </tr>\n",
              "  </tbody>\n",
              "</table>\n",
              "</div><br><label><b>dtype:</b> int64</label>"
            ]
          },
          "metadata": {},
          "execution_count": 8
        }
      ],
      "source": [
        "dataset.isnull().sum()"
      ]
    },
    {
      "cell_type": "markdown",
      "metadata": {
        "id": "rPDhPHNDn84O"
      },
      "source": [
        "---\n",
        "##**Question**\n",
        "\n",
        "**Are there any null values in the dataset? If yes, what are the different ways to handle null values in time series data? Do a brief research and state atleast 3 different ways null values can be handles in time series data. You can use GEMINI or other tools for this question**\n",
        "\n",
        "No, there are no null values in this dataset based on the output of dataset.isnull().sum().\n",
        "\n",
        "Here are three ways to handle null values in time series data:\n",
        "\n",
        "Imputation with previous or next value: Fill nulls with the last known value (forward fill) or the next known value (backward fill).\n",
        "Imputation with mean, median, or mode: Replace nulls with the average, median, or most frequent value of the time series or a relevant subset.\n",
        "Imputation with interpolation: Estimate null values based on surrounding data points using methods like linear interpolation or more advanced techniques."
      ]
    },
    {
      "cell_type": "code",
      "execution_count": null,
      "metadata": {
        "id": "hRR2Xq63pMPr",
        "colab": {
          "base_uri": "https://localhost:8080/"
        },
        "outputId": "91b2f078-9d3b-45ab-c707-175f72c97f5f"
      },
      "outputs": [
        {
          "output_type": "stream",
          "name": "stdout",
          "text": [
            "<class 'pandas.core.frame.DataFrame'>\n",
            "Index: 32686 entries, 7416 to 24522\n",
            "Data columns (total 11 columns):\n",
            " #   Column                  Non-Null Count  Dtype  \n",
            "---  ------                  --------------  -----  \n",
            " 0   UNIXTime                32686 non-null  int64  \n",
            " 1   Data                    32686 non-null  object \n",
            " 2   Time                    32686 non-null  object \n",
            " 3   Radiation               32686 non-null  float64\n",
            " 4   Temperature             32686 non-null  int64  \n",
            " 5   Pressure                32686 non-null  float64\n",
            " 6   Humidity                32686 non-null  int64  \n",
            " 7   WindDirection(Degrees)  32686 non-null  float64\n",
            " 8   Speed                   32686 non-null  float64\n",
            " 9   TimeSunRise             32686 non-null  object \n",
            " 10  TimeSunSet              32686 non-null  object \n",
            "dtypes: float64(4), int64(3), object(4)\n",
            "memory usage: 4.0+ MB\n"
          ]
        }
      ],
      "source": [
        "dataset.info()"
      ]
    },
    {
      "cell_type": "code",
      "execution_count": null,
      "metadata": {
        "id": "LufD5dlRmCpq"
      },
      "outputs": [],
      "source": [
        "hawaii= timezone('Pacific/Honolulu')\n",
        "dataset.index =  pd.to_datetime(dataset['UNIXTime'], unit='s')\n",
        "dataset.index = dataset.index.tz_localize(pytz.utc).tz_convert(hawaii)"
      ]
    },
    {
      "cell_type": "code",
      "execution_count": null,
      "metadata": {
        "id": "mmJhE_nAg0Ba"
      },
      "outputs": [],
      "source": [
        "# Create more fields related to datetime for machine learning\n",
        "dataset['MonthOfYear'] = dataset.index.strftime('%m').astype(int)\n",
        "dataset['DayOfYear'] = dataset.index.strftime('%j').astype(int)\n",
        "dataset['WeekOfYear'] = dataset.index.strftime('%U').astype(int)\n",
        "dataset['Hour'] = dataset.index.hour\n",
        "dataset['Month'] = dataset.index.month\n",
        "dataset['Date'] = dataset.index.date\n",
        "\n",
        "dataset['TimeSunRise'] = pd.to_datetime(dataset['TimeSunRise'], format='%H:%M:%S').dt.time\n",
        "dataset['TimeSunSet'] = pd.to_datetime(dataset['TimeSunSet'], format='%H:%M:%S').dt.time\n",
        "dataset['Total_time'] = pd.to_datetime(dataset['TimeSunSet'], format='%H:%M:%S').dt.hour - pd.to_datetime(dataset['TimeSunRise'], format='%H:%M:%S').dt.hour"
      ]
    },
    {
      "cell_type": "code",
      "execution_count": null,
      "metadata": {
        "id": "FL9qGaD6RLXt",
        "colab": {
          "base_uri": "https://localhost:8080/",
          "height": 351
        },
        "outputId": "6617b431-4dfb-4189-9b8a-0be04848c69d"
      },
      "outputs": [
        {
          "output_type": "execute_result",
          "data": {
            "text/plain": [
              "                             UNIXTime                  Data      Time  \\\n",
              "UNIXTime                                                                \n",
              "2016-09-01 00:00:08-10:00  1472724008  9/1/2016 12:00:00 AM  00:00:08   \n",
              "2016-09-01 00:05:10-10:00  1472724310  9/1/2016 12:00:00 AM  00:05:10   \n",
              "2016-09-01 00:20:06-10:00  1472725206  9/1/2016 12:00:00 AM  00:20:06   \n",
              "\n",
              "                           Radiation  Temperature  Pressure  Humidity  \\\n",
              "UNIXTime                                                                \n",
              "2016-09-01 00:00:08-10:00       2.58           51     30.43       103   \n",
              "2016-09-01 00:05:10-10:00       2.83           51     30.43       103   \n",
              "2016-09-01 00:20:06-10:00       2.16           51     30.43       103   \n",
              "\n",
              "                           WindDirection(Degrees)  Speed TimeSunRise  \\\n",
              "UNIXTime                                                               \n",
              "2016-09-01 00:00:08-10:00                   77.27  11.25    06:07:00   \n",
              "2016-09-01 00:05:10-10:00                  153.44   9.00    06:07:00   \n",
              "2016-09-01 00:20:06-10:00                  142.04   7.87    06:07:00   \n",
              "\n",
              "                          TimeSunSet  MonthOfYear  DayOfYear  WeekOfYear  \\\n",
              "UNIXTime                                                                   \n",
              "2016-09-01 00:00:08-10:00   18:38:00            9        245          35   \n",
              "2016-09-01 00:05:10-10:00   18:38:00            9        245          35   \n",
              "2016-09-01 00:20:06-10:00   18:38:00            9        245          35   \n",
              "\n",
              "                           Hour  Month        Date  Total_time  \n",
              "UNIXTime                                                        \n",
              "2016-09-01 00:00:08-10:00     0      9  2016-09-01          12  \n",
              "2016-09-01 00:05:10-10:00     0      9  2016-09-01          12  \n",
              "2016-09-01 00:20:06-10:00     0      9  2016-09-01          12  "
            ],
            "text/html": [
              "\n",
              "  <div id=\"df-168bb706-2d43-45f0-8c55-a6262103d467\" class=\"colab-df-container\">\n",
              "    <div>\n",
              "<style scoped>\n",
              "    .dataframe tbody tr th:only-of-type {\n",
              "        vertical-align: middle;\n",
              "    }\n",
              "\n",
              "    .dataframe tbody tr th {\n",
              "        vertical-align: top;\n",
              "    }\n",
              "\n",
              "    .dataframe thead th {\n",
              "        text-align: right;\n",
              "    }\n",
              "</style>\n",
              "<table border=\"1\" class=\"dataframe\">\n",
              "  <thead>\n",
              "    <tr style=\"text-align: right;\">\n",
              "      <th></th>\n",
              "      <th>UNIXTime</th>\n",
              "      <th>Data</th>\n",
              "      <th>Time</th>\n",
              "      <th>Radiation</th>\n",
              "      <th>Temperature</th>\n",
              "      <th>Pressure</th>\n",
              "      <th>Humidity</th>\n",
              "      <th>WindDirection(Degrees)</th>\n",
              "      <th>Speed</th>\n",
              "      <th>TimeSunRise</th>\n",
              "      <th>TimeSunSet</th>\n",
              "      <th>MonthOfYear</th>\n",
              "      <th>DayOfYear</th>\n",
              "      <th>WeekOfYear</th>\n",
              "      <th>Hour</th>\n",
              "      <th>Month</th>\n",
              "      <th>Date</th>\n",
              "      <th>Total_time</th>\n",
              "    </tr>\n",
              "    <tr>\n",
              "      <th>UNIXTime</th>\n",
              "      <th></th>\n",
              "      <th></th>\n",
              "      <th></th>\n",
              "      <th></th>\n",
              "      <th></th>\n",
              "      <th></th>\n",
              "      <th></th>\n",
              "      <th></th>\n",
              "      <th></th>\n",
              "      <th></th>\n",
              "      <th></th>\n",
              "      <th></th>\n",
              "      <th></th>\n",
              "      <th></th>\n",
              "      <th></th>\n",
              "      <th></th>\n",
              "      <th></th>\n",
              "      <th></th>\n",
              "    </tr>\n",
              "  </thead>\n",
              "  <tbody>\n",
              "    <tr>\n",
              "      <th>2016-09-01 00:00:08-10:00</th>\n",
              "      <td>1472724008</td>\n",
              "      <td>9/1/2016 12:00:00 AM</td>\n",
              "      <td>00:00:08</td>\n",
              "      <td>2.58</td>\n",
              "      <td>51</td>\n",
              "      <td>30.43</td>\n",
              "      <td>103</td>\n",
              "      <td>77.27</td>\n",
              "      <td>11.25</td>\n",
              "      <td>06:07:00</td>\n",
              "      <td>18:38:00</td>\n",
              "      <td>9</td>\n",
              "      <td>245</td>\n",
              "      <td>35</td>\n",
              "      <td>0</td>\n",
              "      <td>9</td>\n",
              "      <td>2016-09-01</td>\n",
              "      <td>12</td>\n",
              "    </tr>\n",
              "    <tr>\n",
              "      <th>2016-09-01 00:05:10-10:00</th>\n",
              "      <td>1472724310</td>\n",
              "      <td>9/1/2016 12:00:00 AM</td>\n",
              "      <td>00:05:10</td>\n",
              "      <td>2.83</td>\n",
              "      <td>51</td>\n",
              "      <td>30.43</td>\n",
              "      <td>103</td>\n",
              "      <td>153.44</td>\n",
              "      <td>9.00</td>\n",
              "      <td>06:07:00</td>\n",
              "      <td>18:38:00</td>\n",
              "      <td>9</td>\n",
              "      <td>245</td>\n",
              "      <td>35</td>\n",
              "      <td>0</td>\n",
              "      <td>9</td>\n",
              "      <td>2016-09-01</td>\n",
              "      <td>12</td>\n",
              "    </tr>\n",
              "    <tr>\n",
              "      <th>2016-09-01 00:20:06-10:00</th>\n",
              "      <td>1472725206</td>\n",
              "      <td>9/1/2016 12:00:00 AM</td>\n",
              "      <td>00:20:06</td>\n",
              "      <td>2.16</td>\n",
              "      <td>51</td>\n",
              "      <td>30.43</td>\n",
              "      <td>103</td>\n",
              "      <td>142.04</td>\n",
              "      <td>7.87</td>\n",
              "      <td>06:07:00</td>\n",
              "      <td>18:38:00</td>\n",
              "      <td>9</td>\n",
              "      <td>245</td>\n",
              "      <td>35</td>\n",
              "      <td>0</td>\n",
              "      <td>9</td>\n",
              "      <td>2016-09-01</td>\n",
              "      <td>12</td>\n",
              "    </tr>\n",
              "  </tbody>\n",
              "</table>\n",
              "</div>\n",
              "    <div class=\"colab-df-buttons\">\n",
              "\n",
              "  <div class=\"colab-df-container\">\n",
              "    <button class=\"colab-df-convert\" onclick=\"convertToInteractive('df-168bb706-2d43-45f0-8c55-a6262103d467')\"\n",
              "            title=\"Convert this dataframe to an interactive table.\"\n",
              "            style=\"display:none;\">\n",
              "\n",
              "  <svg xmlns=\"http://www.w3.org/2000/svg\" height=\"24px\" viewBox=\"0 -960 960 960\">\n",
              "    <path d=\"M120-120v-720h720v720H120Zm60-500h600v-160H180v160Zm220 220h160v-160H400v160Zm0 220h160v-160H400v160ZM180-400h160v-160H180v160Zm440 0h160v-160H620v160ZM180-180h160v-160H180v160Zm440 0h160v-160H620v160Z\"/>\n",
              "  </svg>\n",
              "    </button>\n",
              "\n",
              "  <style>\n",
              "    .colab-df-container {\n",
              "      display:flex;\n",
              "      gap: 12px;\n",
              "    }\n",
              "\n",
              "    .colab-df-convert {\n",
              "      background-color: #E8F0FE;\n",
              "      border: none;\n",
              "      border-radius: 50%;\n",
              "      cursor: pointer;\n",
              "      display: none;\n",
              "      fill: #1967D2;\n",
              "      height: 32px;\n",
              "      padding: 0 0 0 0;\n",
              "      width: 32px;\n",
              "    }\n",
              "\n",
              "    .colab-df-convert:hover {\n",
              "      background-color: #E2EBFA;\n",
              "      box-shadow: 0px 1px 2px rgba(60, 64, 67, 0.3), 0px 1px 3px 1px rgba(60, 64, 67, 0.15);\n",
              "      fill: #174EA6;\n",
              "    }\n",
              "\n",
              "    .colab-df-buttons div {\n",
              "      margin-bottom: 4px;\n",
              "    }\n",
              "\n",
              "    [theme=dark] .colab-df-convert {\n",
              "      background-color: #3B4455;\n",
              "      fill: #D2E3FC;\n",
              "    }\n",
              "\n",
              "    [theme=dark] .colab-df-convert:hover {\n",
              "      background-color: #434B5C;\n",
              "      box-shadow: 0px 1px 3px 1px rgba(0, 0, 0, 0.15);\n",
              "      filter: drop-shadow(0px 1px 2px rgba(0, 0, 0, 0.3));\n",
              "      fill: #FFFFFF;\n",
              "    }\n",
              "  </style>\n",
              "\n",
              "    <script>\n",
              "      const buttonEl =\n",
              "        document.querySelector('#df-168bb706-2d43-45f0-8c55-a6262103d467 button.colab-df-convert');\n",
              "      buttonEl.style.display =\n",
              "        google.colab.kernel.accessAllowed ? 'block' : 'none';\n",
              "\n",
              "      async function convertToInteractive(key) {\n",
              "        const element = document.querySelector('#df-168bb706-2d43-45f0-8c55-a6262103d467');\n",
              "        const dataTable =\n",
              "          await google.colab.kernel.invokeFunction('convertToInteractive',\n",
              "                                                    [key], {});\n",
              "        if (!dataTable) return;\n",
              "\n",
              "        const docLinkHtml = 'Like what you see? Visit the ' +\n",
              "          '<a target=\"_blank\" href=https://colab.research.google.com/notebooks/data_table.ipynb>data table notebook</a>'\n",
              "          + ' to learn more about interactive tables.';\n",
              "        element.innerHTML = '';\n",
              "        dataTable['output_type'] = 'display_data';\n",
              "        await google.colab.output.renderOutput(dataTable, element);\n",
              "        const docLink = document.createElement('div');\n",
              "        docLink.innerHTML = docLinkHtml;\n",
              "        element.appendChild(docLink);\n",
              "      }\n",
              "    </script>\n",
              "  </div>\n",
              "\n",
              "\n",
              "    <div id=\"df-baef5083-2f52-4381-b1e9-7b119c892200\">\n",
              "      <button class=\"colab-df-quickchart\" onclick=\"quickchart('df-baef5083-2f52-4381-b1e9-7b119c892200')\"\n",
              "                title=\"Suggest charts\"\n",
              "                style=\"display:none;\">\n",
              "\n",
              "<svg xmlns=\"http://www.w3.org/2000/svg\" height=\"24px\"viewBox=\"0 0 24 24\"\n",
              "     width=\"24px\">\n",
              "    <g>\n",
              "        <path d=\"M19 3H5c-1.1 0-2 .9-2 2v14c0 1.1.9 2 2 2h14c1.1 0 2-.9 2-2V5c0-1.1-.9-2-2-2zM9 17H7v-7h2v7zm4 0h-2V7h2v10zm4 0h-2v-4h2v4z\"/>\n",
              "    </g>\n",
              "</svg>\n",
              "      </button>\n",
              "\n",
              "<style>\n",
              "  .colab-df-quickchart {\n",
              "      --bg-color: #E8F0FE;\n",
              "      --fill-color: #1967D2;\n",
              "      --hover-bg-color: #E2EBFA;\n",
              "      --hover-fill-color: #174EA6;\n",
              "      --disabled-fill-color: #AAA;\n",
              "      --disabled-bg-color: #DDD;\n",
              "  }\n",
              "\n",
              "  [theme=dark] .colab-df-quickchart {\n",
              "      --bg-color: #3B4455;\n",
              "      --fill-color: #D2E3FC;\n",
              "      --hover-bg-color: #434B5C;\n",
              "      --hover-fill-color: #FFFFFF;\n",
              "      --disabled-bg-color: #3B4455;\n",
              "      --disabled-fill-color: #666;\n",
              "  }\n",
              "\n",
              "  .colab-df-quickchart {\n",
              "    background-color: var(--bg-color);\n",
              "    border: none;\n",
              "    border-radius: 50%;\n",
              "    cursor: pointer;\n",
              "    display: none;\n",
              "    fill: var(--fill-color);\n",
              "    height: 32px;\n",
              "    padding: 0;\n",
              "    width: 32px;\n",
              "  }\n",
              "\n",
              "  .colab-df-quickchart:hover {\n",
              "    background-color: var(--hover-bg-color);\n",
              "    box-shadow: 0 1px 2px rgba(60, 64, 67, 0.3), 0 1px 3px 1px rgba(60, 64, 67, 0.15);\n",
              "    fill: var(--button-hover-fill-color);\n",
              "  }\n",
              "\n",
              "  .colab-df-quickchart-complete:disabled,\n",
              "  .colab-df-quickchart-complete:disabled:hover {\n",
              "    background-color: var(--disabled-bg-color);\n",
              "    fill: var(--disabled-fill-color);\n",
              "    box-shadow: none;\n",
              "  }\n",
              "\n",
              "  .colab-df-spinner {\n",
              "    border: 2px solid var(--fill-color);\n",
              "    border-color: transparent;\n",
              "    border-bottom-color: var(--fill-color);\n",
              "    animation:\n",
              "      spin 1s steps(1) infinite;\n",
              "  }\n",
              "\n",
              "  @keyframes spin {\n",
              "    0% {\n",
              "      border-color: transparent;\n",
              "      border-bottom-color: var(--fill-color);\n",
              "      border-left-color: var(--fill-color);\n",
              "    }\n",
              "    20% {\n",
              "      border-color: transparent;\n",
              "      border-left-color: var(--fill-color);\n",
              "      border-top-color: var(--fill-color);\n",
              "    }\n",
              "    30% {\n",
              "      border-color: transparent;\n",
              "      border-left-color: var(--fill-color);\n",
              "      border-top-color: var(--fill-color);\n",
              "      border-right-color: var(--fill-color);\n",
              "    }\n",
              "    40% {\n",
              "      border-color: transparent;\n",
              "      border-right-color: var(--fill-color);\n",
              "      border-top-color: var(--fill-color);\n",
              "    }\n",
              "    60% {\n",
              "      border-color: transparent;\n",
              "      border-right-color: var(--fill-color);\n",
              "    }\n",
              "    80% {\n",
              "      border-color: transparent;\n",
              "      border-right-color: var(--fill-color);\n",
              "      border-bottom-color: var(--fill-color);\n",
              "    }\n",
              "    90% {\n",
              "      border-color: transparent;\n",
              "      border-bottom-color: var(--fill-color);\n",
              "    }\n",
              "  }\n",
              "</style>\n",
              "\n",
              "      <script>\n",
              "        async function quickchart(key) {\n",
              "          const quickchartButtonEl =\n",
              "            document.querySelector('#' + key + ' button');\n",
              "          quickchartButtonEl.disabled = true;  // To prevent multiple clicks.\n",
              "          quickchartButtonEl.classList.add('colab-df-spinner');\n",
              "          try {\n",
              "            const charts = await google.colab.kernel.invokeFunction(\n",
              "                'suggestCharts', [key], {});\n",
              "          } catch (error) {\n",
              "            console.error('Error during call to suggestCharts:', error);\n",
              "          }\n",
              "          quickchartButtonEl.classList.remove('colab-df-spinner');\n",
              "          quickchartButtonEl.classList.add('colab-df-quickchart-complete');\n",
              "        }\n",
              "        (() => {\n",
              "          let quickchartButtonEl =\n",
              "            document.querySelector('#df-baef5083-2f52-4381-b1e9-7b119c892200 button');\n",
              "          quickchartButtonEl.style.display =\n",
              "            google.colab.kernel.accessAllowed ? 'block' : 'none';\n",
              "        })();\n",
              "      </script>\n",
              "    </div>\n",
              "\n",
              "    </div>\n",
              "  </div>\n"
            ],
            "application/vnd.google.colaboratory.intrinsic+json": {
              "type": "dataframe",
              "variable_name": "dataset",
              "repr_error": "cannot insert UNIXTime, already exists"
            }
          },
          "metadata": {},
          "execution_count": 12
        }
      ],
      "source": [
        "dataset.head(3)"
      ]
    },
    {
      "cell_type": "code",
      "execution_count": null,
      "metadata": {
        "id": "836mOf-DxfVe",
        "colab": {
          "base_uri": "https://localhost:8080/",
          "height": 320
        },
        "outputId": "45705b22-dcfd-4d9d-c237-01b5983955a1"
      },
      "outputs": [
        {
          "output_type": "execute_result",
          "data": {
            "text/plain": [
              "           UNIXTime     Radiation   Temperature      Pressure      Humidity  \\\n",
              "count  3.268600e+04  32686.000000  32686.000000  32686.000000  32686.000000   \n",
              "mean   1.478047e+09    207.124697     51.103255     30.422879     75.016307   \n",
              "std    3.005037e+06    315.916387      6.201157      0.054673     25.990219   \n",
              "min    1.472724e+09      1.110000     34.000000     30.190000      8.000000   \n",
              "25%    1.475546e+09      1.230000     46.000000     30.400000     56.000000   \n",
              "50%    1.478026e+09      2.660000     50.000000     30.430000     85.000000   \n",
              "75%    1.480480e+09    354.235000     55.000000     30.460000     97.000000   \n",
              "max    1.483265e+09   1601.260000     71.000000     30.560000    103.000000   \n",
              "\n",
              "       WindDirection(Degrees)         Speed   MonthOfYear     DayOfYear  \\\n",
              "count            32686.000000  32686.000000  32686.000000  32686.000000   \n",
              "mean               143.489821      6.243869     10.526066    306.110965   \n",
              "std                 83.167500      3.490474      1.096691     34.781367   \n",
              "min                  0.090000      0.000000      9.000000    245.000000   \n",
              "25%                 82.227500      3.370000     10.000000    277.000000   \n",
              "50%                147.700000      5.620000     11.000000    306.000000   \n",
              "75%                179.310000      7.870000     11.000000    334.000000   \n",
              "max                359.950000     40.500000     12.000000    366.000000   \n",
              "\n",
              "         WeekOfYear          Hour         Month    Total_time  \n",
              "count  32686.000000  32686.000000  32686.000000  32686.000000  \n",
              "mean      43.871015     11.557425     10.526066     11.347886  \n",
              "std        4.963061      6.912034      1.096691      0.476307  \n",
              "min       35.000000      0.000000      9.000000     11.000000  \n",
              "25%       40.000000      6.000000     10.000000     11.000000  \n",
              "50%       44.000000     12.000000     11.000000     11.000000  \n",
              "75%       48.000000     18.000000     11.000000     12.000000  \n",
              "max       52.000000     23.000000     12.000000     12.000000  "
            ],
            "text/html": [
              "\n",
              "  <div id=\"df-379bdb18-6118-4b78-a487-a202448f2d5a\" class=\"colab-df-container\">\n",
              "    <div>\n",
              "<style scoped>\n",
              "    .dataframe tbody tr th:only-of-type {\n",
              "        vertical-align: middle;\n",
              "    }\n",
              "\n",
              "    .dataframe tbody tr th {\n",
              "        vertical-align: top;\n",
              "    }\n",
              "\n",
              "    .dataframe thead th {\n",
              "        text-align: right;\n",
              "    }\n",
              "</style>\n",
              "<table border=\"1\" class=\"dataframe\">\n",
              "  <thead>\n",
              "    <tr style=\"text-align: right;\">\n",
              "      <th></th>\n",
              "      <th>UNIXTime</th>\n",
              "      <th>Radiation</th>\n",
              "      <th>Temperature</th>\n",
              "      <th>Pressure</th>\n",
              "      <th>Humidity</th>\n",
              "      <th>WindDirection(Degrees)</th>\n",
              "      <th>Speed</th>\n",
              "      <th>MonthOfYear</th>\n",
              "      <th>DayOfYear</th>\n",
              "      <th>WeekOfYear</th>\n",
              "      <th>Hour</th>\n",
              "      <th>Month</th>\n",
              "      <th>Total_time</th>\n",
              "    </tr>\n",
              "  </thead>\n",
              "  <tbody>\n",
              "    <tr>\n",
              "      <th>count</th>\n",
              "      <td>3.268600e+04</td>\n",
              "      <td>32686.000000</td>\n",
              "      <td>32686.000000</td>\n",
              "      <td>32686.000000</td>\n",
              "      <td>32686.000000</td>\n",
              "      <td>32686.000000</td>\n",
              "      <td>32686.000000</td>\n",
              "      <td>32686.000000</td>\n",
              "      <td>32686.000000</td>\n",
              "      <td>32686.000000</td>\n",
              "      <td>32686.000000</td>\n",
              "      <td>32686.000000</td>\n",
              "      <td>32686.000000</td>\n",
              "    </tr>\n",
              "    <tr>\n",
              "      <th>mean</th>\n",
              "      <td>1.478047e+09</td>\n",
              "      <td>207.124697</td>\n",
              "      <td>51.103255</td>\n",
              "      <td>30.422879</td>\n",
              "      <td>75.016307</td>\n",
              "      <td>143.489821</td>\n",
              "      <td>6.243869</td>\n",
              "      <td>10.526066</td>\n",
              "      <td>306.110965</td>\n",
              "      <td>43.871015</td>\n",
              "      <td>11.557425</td>\n",
              "      <td>10.526066</td>\n",
              "      <td>11.347886</td>\n",
              "    </tr>\n",
              "    <tr>\n",
              "      <th>std</th>\n",
              "      <td>3.005037e+06</td>\n",
              "      <td>315.916387</td>\n",
              "      <td>6.201157</td>\n",
              "      <td>0.054673</td>\n",
              "      <td>25.990219</td>\n",
              "      <td>83.167500</td>\n",
              "      <td>3.490474</td>\n",
              "      <td>1.096691</td>\n",
              "      <td>34.781367</td>\n",
              "      <td>4.963061</td>\n",
              "      <td>6.912034</td>\n",
              "      <td>1.096691</td>\n",
              "      <td>0.476307</td>\n",
              "    </tr>\n",
              "    <tr>\n",
              "      <th>min</th>\n",
              "      <td>1.472724e+09</td>\n",
              "      <td>1.110000</td>\n",
              "      <td>34.000000</td>\n",
              "      <td>30.190000</td>\n",
              "      <td>8.000000</td>\n",
              "      <td>0.090000</td>\n",
              "      <td>0.000000</td>\n",
              "      <td>9.000000</td>\n",
              "      <td>245.000000</td>\n",
              "      <td>35.000000</td>\n",
              "      <td>0.000000</td>\n",
              "      <td>9.000000</td>\n",
              "      <td>11.000000</td>\n",
              "    </tr>\n",
              "    <tr>\n",
              "      <th>25%</th>\n",
              "      <td>1.475546e+09</td>\n",
              "      <td>1.230000</td>\n",
              "      <td>46.000000</td>\n",
              "      <td>30.400000</td>\n",
              "      <td>56.000000</td>\n",
              "      <td>82.227500</td>\n",
              "      <td>3.370000</td>\n",
              "      <td>10.000000</td>\n",
              "      <td>277.000000</td>\n",
              "      <td>40.000000</td>\n",
              "      <td>6.000000</td>\n",
              "      <td>10.000000</td>\n",
              "      <td>11.000000</td>\n",
              "    </tr>\n",
              "    <tr>\n",
              "      <th>50%</th>\n",
              "      <td>1.478026e+09</td>\n",
              "      <td>2.660000</td>\n",
              "      <td>50.000000</td>\n",
              "      <td>30.430000</td>\n",
              "      <td>85.000000</td>\n",
              "      <td>147.700000</td>\n",
              "      <td>5.620000</td>\n",
              "      <td>11.000000</td>\n",
              "      <td>306.000000</td>\n",
              "      <td>44.000000</td>\n",
              "      <td>12.000000</td>\n",
              "      <td>11.000000</td>\n",
              "      <td>11.000000</td>\n",
              "    </tr>\n",
              "    <tr>\n",
              "      <th>75%</th>\n",
              "      <td>1.480480e+09</td>\n",
              "      <td>354.235000</td>\n",
              "      <td>55.000000</td>\n",
              "      <td>30.460000</td>\n",
              "      <td>97.000000</td>\n",
              "      <td>179.310000</td>\n",
              "      <td>7.870000</td>\n",
              "      <td>11.000000</td>\n",
              "      <td>334.000000</td>\n",
              "      <td>48.000000</td>\n",
              "      <td>18.000000</td>\n",
              "      <td>11.000000</td>\n",
              "      <td>12.000000</td>\n",
              "    </tr>\n",
              "    <tr>\n",
              "      <th>max</th>\n",
              "      <td>1.483265e+09</td>\n",
              "      <td>1601.260000</td>\n",
              "      <td>71.000000</td>\n",
              "      <td>30.560000</td>\n",
              "      <td>103.000000</td>\n",
              "      <td>359.950000</td>\n",
              "      <td>40.500000</td>\n",
              "      <td>12.000000</td>\n",
              "      <td>366.000000</td>\n",
              "      <td>52.000000</td>\n",
              "      <td>23.000000</td>\n",
              "      <td>12.000000</td>\n",
              "      <td>12.000000</td>\n",
              "    </tr>\n",
              "  </tbody>\n",
              "</table>\n",
              "</div>\n",
              "    <div class=\"colab-df-buttons\">\n",
              "\n",
              "  <div class=\"colab-df-container\">\n",
              "    <button class=\"colab-df-convert\" onclick=\"convertToInteractive('df-379bdb18-6118-4b78-a487-a202448f2d5a')\"\n",
              "            title=\"Convert this dataframe to an interactive table.\"\n",
              "            style=\"display:none;\">\n",
              "\n",
              "  <svg xmlns=\"http://www.w3.org/2000/svg\" height=\"24px\" viewBox=\"0 -960 960 960\">\n",
              "    <path d=\"M120-120v-720h720v720H120Zm60-500h600v-160H180v160Zm220 220h160v-160H400v160Zm0 220h160v-160H400v160ZM180-400h160v-160H180v160Zm440 0h160v-160H620v160ZM180-180h160v-160H180v160Zm440 0h160v-160H620v160Z\"/>\n",
              "  </svg>\n",
              "    </button>\n",
              "\n",
              "  <style>\n",
              "    .colab-df-container {\n",
              "      display:flex;\n",
              "      gap: 12px;\n",
              "    }\n",
              "\n",
              "    .colab-df-convert {\n",
              "      background-color: #E8F0FE;\n",
              "      border: none;\n",
              "      border-radius: 50%;\n",
              "      cursor: pointer;\n",
              "      display: none;\n",
              "      fill: #1967D2;\n",
              "      height: 32px;\n",
              "      padding: 0 0 0 0;\n",
              "      width: 32px;\n",
              "    }\n",
              "\n",
              "    .colab-df-convert:hover {\n",
              "      background-color: #E2EBFA;\n",
              "      box-shadow: 0px 1px 2px rgba(60, 64, 67, 0.3), 0px 1px 3px 1px rgba(60, 64, 67, 0.15);\n",
              "      fill: #174EA6;\n",
              "    }\n",
              "\n",
              "    .colab-df-buttons div {\n",
              "      margin-bottom: 4px;\n",
              "    }\n",
              "\n",
              "    [theme=dark] .colab-df-convert {\n",
              "      background-color: #3B4455;\n",
              "      fill: #D2E3FC;\n",
              "    }\n",
              "\n",
              "    [theme=dark] .colab-df-convert:hover {\n",
              "      background-color: #434B5C;\n",
              "      box-shadow: 0px 1px 3px 1px rgba(0, 0, 0, 0.15);\n",
              "      filter: drop-shadow(0px 1px 2px rgba(0, 0, 0, 0.3));\n",
              "      fill: #FFFFFF;\n",
              "    }\n",
              "  </style>\n",
              "\n",
              "    <script>\n",
              "      const buttonEl =\n",
              "        document.querySelector('#df-379bdb18-6118-4b78-a487-a202448f2d5a button.colab-df-convert');\n",
              "      buttonEl.style.display =\n",
              "        google.colab.kernel.accessAllowed ? 'block' : 'none';\n",
              "\n",
              "      async function convertToInteractive(key) {\n",
              "        const element = document.querySelector('#df-379bdb18-6118-4b78-a487-a202448f2d5a');\n",
              "        const dataTable =\n",
              "          await google.colab.kernel.invokeFunction('convertToInteractive',\n",
              "                                                    [key], {});\n",
              "        if (!dataTable) return;\n",
              "\n",
              "        const docLinkHtml = 'Like what you see? Visit the ' +\n",
              "          '<a target=\"_blank\" href=https://colab.research.google.com/notebooks/data_table.ipynb>data table notebook</a>'\n",
              "          + ' to learn more about interactive tables.';\n",
              "        element.innerHTML = '';\n",
              "        dataTable['output_type'] = 'display_data';\n",
              "        await google.colab.output.renderOutput(dataTable, element);\n",
              "        const docLink = document.createElement('div');\n",
              "        docLink.innerHTML = docLinkHtml;\n",
              "        element.appendChild(docLink);\n",
              "      }\n",
              "    </script>\n",
              "  </div>\n",
              "\n",
              "\n",
              "    <div id=\"df-fcf90dd1-1dec-4236-aae9-a2f48dba431a\">\n",
              "      <button class=\"colab-df-quickchart\" onclick=\"quickchart('df-fcf90dd1-1dec-4236-aae9-a2f48dba431a')\"\n",
              "                title=\"Suggest charts\"\n",
              "                style=\"display:none;\">\n",
              "\n",
              "<svg xmlns=\"http://www.w3.org/2000/svg\" height=\"24px\"viewBox=\"0 0 24 24\"\n",
              "     width=\"24px\">\n",
              "    <g>\n",
              "        <path d=\"M19 3H5c-1.1 0-2 .9-2 2v14c0 1.1.9 2 2 2h14c1.1 0 2-.9 2-2V5c0-1.1-.9-2-2-2zM9 17H7v-7h2v7zm4 0h-2V7h2v10zm4 0h-2v-4h2v4z\"/>\n",
              "    </g>\n",
              "</svg>\n",
              "      </button>\n",
              "\n",
              "<style>\n",
              "  .colab-df-quickchart {\n",
              "      --bg-color: #E8F0FE;\n",
              "      --fill-color: #1967D2;\n",
              "      --hover-bg-color: #E2EBFA;\n",
              "      --hover-fill-color: #174EA6;\n",
              "      --disabled-fill-color: #AAA;\n",
              "      --disabled-bg-color: #DDD;\n",
              "  }\n",
              "\n",
              "  [theme=dark] .colab-df-quickchart {\n",
              "      --bg-color: #3B4455;\n",
              "      --fill-color: #D2E3FC;\n",
              "      --hover-bg-color: #434B5C;\n",
              "      --hover-fill-color: #FFFFFF;\n",
              "      --disabled-bg-color: #3B4455;\n",
              "      --disabled-fill-color: #666;\n",
              "  }\n",
              "\n",
              "  .colab-df-quickchart {\n",
              "    background-color: var(--bg-color);\n",
              "    border: none;\n",
              "    border-radius: 50%;\n",
              "    cursor: pointer;\n",
              "    display: none;\n",
              "    fill: var(--fill-color);\n",
              "    height: 32px;\n",
              "    padding: 0;\n",
              "    width: 32px;\n",
              "  }\n",
              "\n",
              "  .colab-df-quickchart:hover {\n",
              "    background-color: var(--hover-bg-color);\n",
              "    box-shadow: 0 1px 2px rgba(60, 64, 67, 0.3), 0 1px 3px 1px rgba(60, 64, 67, 0.15);\n",
              "    fill: var(--button-hover-fill-color);\n",
              "  }\n",
              "\n",
              "  .colab-df-quickchart-complete:disabled,\n",
              "  .colab-df-quickchart-complete:disabled:hover {\n",
              "    background-color: var(--disabled-bg-color);\n",
              "    fill: var(--disabled-fill-color);\n",
              "    box-shadow: none;\n",
              "  }\n",
              "\n",
              "  .colab-df-spinner {\n",
              "    border: 2px solid var(--fill-color);\n",
              "    border-color: transparent;\n",
              "    border-bottom-color: var(--fill-color);\n",
              "    animation:\n",
              "      spin 1s steps(1) infinite;\n",
              "  }\n",
              "\n",
              "  @keyframes spin {\n",
              "    0% {\n",
              "      border-color: transparent;\n",
              "      border-bottom-color: var(--fill-color);\n",
              "      border-left-color: var(--fill-color);\n",
              "    }\n",
              "    20% {\n",
              "      border-color: transparent;\n",
              "      border-left-color: var(--fill-color);\n",
              "      border-top-color: var(--fill-color);\n",
              "    }\n",
              "    30% {\n",
              "      border-color: transparent;\n",
              "      border-left-color: var(--fill-color);\n",
              "      border-top-color: var(--fill-color);\n",
              "      border-right-color: var(--fill-color);\n",
              "    }\n",
              "    40% {\n",
              "      border-color: transparent;\n",
              "      border-right-color: var(--fill-color);\n",
              "      border-top-color: var(--fill-color);\n",
              "    }\n",
              "    60% {\n",
              "      border-color: transparent;\n",
              "      border-right-color: var(--fill-color);\n",
              "    }\n",
              "    80% {\n",
              "      border-color: transparent;\n",
              "      border-right-color: var(--fill-color);\n",
              "      border-bottom-color: var(--fill-color);\n",
              "    }\n",
              "    90% {\n",
              "      border-color: transparent;\n",
              "      border-bottom-color: var(--fill-color);\n",
              "    }\n",
              "  }\n",
              "</style>\n",
              "\n",
              "      <script>\n",
              "        async function quickchart(key) {\n",
              "          const quickchartButtonEl =\n",
              "            document.querySelector('#' + key + ' button');\n",
              "          quickchartButtonEl.disabled = true;  // To prevent multiple clicks.\n",
              "          quickchartButtonEl.classList.add('colab-df-spinner');\n",
              "          try {\n",
              "            const charts = await google.colab.kernel.invokeFunction(\n",
              "                'suggestCharts', [key], {});\n",
              "          } catch (error) {\n",
              "            console.error('Error during call to suggestCharts:', error);\n",
              "          }\n",
              "          quickchartButtonEl.classList.remove('colab-df-spinner');\n",
              "          quickchartButtonEl.classList.add('colab-df-quickchart-complete');\n",
              "        }\n",
              "        (() => {\n",
              "          let quickchartButtonEl =\n",
              "            document.querySelector('#df-fcf90dd1-1dec-4236-aae9-a2f48dba431a button');\n",
              "          quickchartButtonEl.style.display =\n",
              "            google.colab.kernel.accessAllowed ? 'block' : 'none';\n",
              "        })();\n",
              "      </script>\n",
              "    </div>\n",
              "\n",
              "    </div>\n",
              "  </div>\n"
            ],
            "application/vnd.google.colaboratory.intrinsic+json": {
              "type": "dataframe",
              "summary": "{\n  \"name\": \"dataset\",\n  \"rows\": 8,\n  \"fields\": [\n    {\n      \"column\": \"UNIXTime\",\n      \"properties\": {\n        \"dtype\": \"number\",\n        \"std\": 683492322.2285391,\n        \"min\": 32686.0,\n        \"max\": 1483264501.0,\n        \"num_unique_values\": 8,\n        \"samples\": [\n          1478047264.9448082,\n          1478026069.5,\n          32686.0\n        ],\n        \"semantic_type\": \"\",\n        \"description\": \"\"\n      }\n    },\n    {\n      \"column\": \"Radiation\",\n      \"properties\": {\n        \"dtype\": \"number\",\n        \"std\": 11442.99406434529,\n        \"min\": 1.11,\n        \"max\": 32686.0,\n        \"num_unique_values\": 8,\n        \"samples\": [\n          207.12469742397354,\n          2.66,\n          32686.0\n        ],\n        \"semantic_type\": \"\",\n        \"description\": \"\"\n      }\n    },\n    {\n      \"column\": \"Temperature\",\n      \"properties\": {\n        \"dtype\": \"number\",\n        \"std\": 11540.437120545404,\n        \"min\": 6.201157357039894,\n        \"max\": 32686.0,\n        \"num_unique_values\": 8,\n        \"samples\": [\n          51.10325521630055,\n          50.0,\n          32686.0\n        ],\n        \"semantic_type\": \"\",\n        \"description\": \"\"\n      }\n    },\n    {\n      \"column\": \"Pressure\",\n      \"properties\": {\n        \"dtype\": \"number\",\n        \"std\": 11547.032482738721,\n        \"min\": 0.05467315506388656,\n        \"max\": 32686.0,\n        \"num_unique_values\": 8,\n        \"samples\": [\n          30.42287890840115,\n          30.43,\n          32686.0\n        ],\n        \"semantic_type\": \"\",\n        \"description\": \"\"\n      }\n    },\n    {\n      \"column\": \"Humidity\",\n      \"properties\": {\n        \"dtype\": \"number\",\n        \"std\": 11533.565771775471,\n        \"min\": 8.0,\n        \"max\": 32686.0,\n        \"num_unique_values\": 8,\n        \"samples\": [\n          75.01630667564095,\n          85.0,\n          32686.0\n        ],\n        \"semantic_type\": \"\",\n        \"description\": \"\"\n      }\n    },\n    {\n      \"column\": \"WindDirection(Degrees)\",\n      \"properties\": {\n        \"dtype\": \"number\",\n        \"std\": 11506.416242655232,\n        \"min\": 0.09,\n        \"max\": 32686.0,\n        \"num_unique_values\": 8,\n        \"samples\": [\n          143.48982071835033,\n          147.7,\n          32686.0\n        ],\n        \"semantic_type\": \"\",\n        \"description\": \"\"\n      }\n    },\n    {\n      \"column\": \"Speed\",\n      \"properties\": {\n        \"dtype\": \"number\",\n        \"std\": 11552.864478864352,\n        \"min\": 0.0,\n        \"max\": 32686.0,\n        \"num_unique_values\": 8,\n        \"samples\": [\n          6.243869240653491,\n          5.62,\n          32686.0\n        ],\n        \"semantic_type\": \"\",\n        \"description\": \"\"\n      }\n    },\n    {\n      \"column\": \"MonthOfYear\",\n      \"properties\": {\n        \"dtype\": \"number\",\n        \"std\": 11552.982692330173,\n        \"min\": 1.096691334379809,\n        \"max\": 32686.0,\n        \"num_unique_values\": 7,\n        \"samples\": [\n          32686.0,\n          10.526066205714985,\n          11.0\n        ],\n        \"semantic_type\": \"\",\n        \"description\": \"\"\n      }\n    },\n    {\n      \"column\": \"DayOfYear\",\n      \"properties\": {\n        \"dtype\": \"number\",\n        \"std\": 11462.300558509793,\n        \"min\": 34.78136724049727,\n        \"max\": 32686.0,\n        \"num_unique_values\": 8,\n        \"samples\": [\n          306.11096493911765,\n          306.0,\n          32686.0\n        ],\n        \"semantic_type\": \"\",\n        \"description\": \"\"\n      }\n    },\n    {\n      \"column\": \"WeekOfYear\",\n      \"properties\": {\n        \"dtype\": \"number\",\n        \"std\": 11542.727560525223,\n        \"min\": 4.9630613499069645,\n        \"max\": 32686.0,\n        \"num_unique_values\": 8,\n        \"samples\": [\n          43.87101511350425,\n          44.0,\n          32686.0\n        ],\n        \"semantic_type\": \"\",\n        \"description\": \"\"\n      }\n    },\n    {\n      \"column\": \"Hour\",\n      \"properties\": {\n        \"dtype\": \"number\",\n        \"std\": 11552.335533636026,\n        \"min\": 0.0,\n        \"max\": 32686.0,\n        \"num_unique_values\": 8,\n        \"samples\": [\n          11.557425197332192,\n          12.0,\n          32686.0\n        ],\n        \"semantic_type\": \"\",\n        \"description\": \"\"\n      }\n    },\n    {\n      \"column\": \"Month\",\n      \"properties\": {\n        \"dtype\": \"number\",\n        \"std\": 11552.982692330173,\n        \"min\": 1.096691334379809,\n        \"max\": 32686.0,\n        \"num_unique_values\": 7,\n        \"samples\": [\n          32686.0,\n          10.526066205714985,\n          11.0\n        ],\n        \"semantic_type\": \"\",\n        \"description\": \"\"\n      }\n    },\n    {\n      \"column\": \"Total_time\",\n      \"properties\": {\n        \"dtype\": \"number\",\n        \"std\": 11552.770617063672,\n        \"min\": 0.4763068917477342,\n        \"max\": 32686.0,\n        \"num_unique_values\": 5,\n        \"samples\": [\n          11.347885945052928,\n          12.0,\n          0.4763068917477342\n        ],\n        \"semantic_type\": \"\",\n        \"description\": \"\"\n      }\n    }\n  ]\n}"
            }
          },
          "metadata": {},
          "execution_count": 13
        }
      ],
      "source": [
        "dataset.describe()"
      ]
    },
    {
      "cell_type": "markdown",
      "metadata": {
        "id": "N3gh98cUySuh"
      },
      "source": [
        "---\n",
        "##**Question**\n",
        "\n",
        "**Based on the output from the codes above, answer the following questions.**\n",
        "\n",
        " **Q1 :  How many rows of data are there?**\n",
        "\n",
        " **Q2 : Are there any null field in the dataset**\n",
        "\n",
        " **Q3 : Is the index a datetime column?**\n",
        "\n",
        "---\n",
        "\n",
        "\n",
        "\n"
      ]
    },
    {
      "cell_type": "code",
      "execution_count": null,
      "metadata": {
        "id": "7NemVHsvpMPt",
        "colab": {
          "base_uri": "https://localhost:8080/",
          "height": 170
        },
        "outputId": "8cc33724-48e1-42b6-d3ba-b609e4629027"
      },
      "outputs": [
        {
          "output_type": "display_data",
          "data": {
            "text/plain": [
              "<Figure size 2000x400 with 4 Axes>"
            ],
            "image/png": "[encoded data removed]"
          },
          "metadata": {}
        }
      ],
      "source": [
        "# Distribution of Irradiance, Pressure, Humidity, Temperature\n",
        "f, ax = plt.subplots(1,4,figsize=(20,4))\n",
        "sns.histplot(dataset['Radiation'], stat=\"density\", bins=25, ax=ax[0])\n",
        "sns.histplot(dataset['Pressure'], stat=\"density\", bins=25, ax=ax[1])\n",
        "sns.histplot(dataset['Humidity'], stat=\"density\", bins=25, ax=ax[2])\n",
        "sns.histplot(dataset['Temperature'], stat=\"density\", bins=25, ax=ax[3]);"
      ]
    },
    {
      "cell_type": "code",
      "execution_count": null,
      "metadata": {
        "id": "GlhecTJipMPu",
        "colab": {
          "base_uri": "https://localhost:8080/",
          "height": 652
        },
        "outputId": "642ddec1-ca3b-4267-8b55-35f55c74bafc"
      },
      "outputs": [
        {
          "output_type": "display_data",
          "data": {
            "text/plain": [
              "<Figure size 1000x1000 with 2 Axes>"
            ],
            "image/png": "[encoded data removed]"
          },
          "metadata": {}
        }
      ],
      "source": [
        "corr = dataset.drop(['Data', 'Time', 'TimeSunRise', 'TimeSunSet', 'Date'], axis=1).corr(method = \"pearson\")\n",
        "f, ax = plt.subplots(figsize=(10, 10))\n",
        "sns.heatmap(corr, mask=np.zeros_like(corr, dtype=np.bool), cmap=\"coolwarm\", square=True, ax=ax, annot=True, fmt=\".1f\");"
      ]
    },
    {
      "cell_type": "code",
      "execution_count": null,
      "metadata": {
        "id": "j6Gj47gTpMPu",
        "colab": {
          "base_uri": "https://localhost:8080/"
        },
        "outputId": "263ead31-3fdf-4ba4-85dc-f68f721e9fa1"
      },
      "outputs": [
        {
          "output_type": "execute_result",
          "data": {
            "text/plain": [
              "Index(['UNIXTime', 'Data', 'Time', 'Radiation', 'Temperature', 'Pressure',\n",
              "       'Humidity', 'WindDirection(Degrees)', 'Speed', 'TimeSunRise',\n",
              "       'TimeSunSet', 'MonthOfYear', 'DayOfYear', 'WeekOfYear', 'Hour', 'Month',\n",
              "       'Date', 'Total_time'],\n",
              "      dtype='object')"
            ]
          },
          "metadata": {},
          "execution_count": 16
        }
      ],
      "source": [
        "dataset.columns"
      ]
    },
    {
      "cell_type": "markdown",
      "metadata": {
        "id": "Lbzmx6KAx2Ps"
      },
      "source": [
        "---\n",
        "#**Machine Learning**\n",
        "\n",
        "\n",
        "---\n",
        "\n",
        "\n"
      ]
    },
    {
      "cell_type": "code",
      "execution_count": null,
      "metadata": {
        "id": "T6tuYrnDpMPu"
      },
      "outputs": [],
      "source": [
        "# Split the dataset into features and labels, X [features] and Y[label]\n",
        "X = dataset[['Temperature', 'Pressure', 'Humidity', 'WindDirection(Degrees)', 'Speed',\n",
        "             'MonthOfYear', 'DayOfYear', 'WeekOfYear', 'Total_time']]\n",
        "\n",
        "y = dataset['Radiation']"
      ]
    },
    {
      "cell_type": "code",
      "execution_count": null,
      "metadata": {
        "id": "CTiqN18xpMPu"
      },
      "outputs": [],
      "source": [
        "# Train-test split using sklearn package\n",
        "from sklearn.model_selection import train_test_split\n",
        "\n",
        "X_train, X_test, y_train, y_test = train_test_split(X, y, test_size=0.2, random_state=0)"
      ]
    },
    {
      "cell_type": "markdown",
      "metadata": {
        "id": "8Tdk7uWnWfqq"
      },
      "source": [
        "##1.Linear Regression"
      ]
    },
    {
      "cell_type": "code",
      "execution_count": null,
      "metadata": {
        "id": "dUrFrDNbpMPv",
        "colab": {
          "base_uri": "https://localhost:8080/"
        },
        "outputId": "95228b86-e9d3-43a7-c548-5da75497e38e"
      },
      "outputs": [
        {
          "output_type": "stream",
          "name": "stdout",
          "text": [
            "mse = 40200.90321655357\n",
            "mae = 150.566266245429\n",
            "r2 = 0.6100029402001252\n"
          ]
        }
      ],
      "source": [
        "# Linear Regression\n",
        "from sklearn.linear_model import LinearRegression\n",
        "from sklearn.metrics import mean_squared_error, mean_absolute_error, r2_score\n",
        "\n",
        "import warnings\n",
        "warnings.filterwarnings(\"ignore\")\n",
        "\n",
        "model = LinearRegression()\n",
        "model.fit(X_train, y_train)\n",
        "y_pred = model.predict(X_test)\n",
        "mean_squared_err = mean_squared_error(y_test,y_pred)\n",
        "mean_absolute_err = mean_absolute_error(y_test,y_pred)\n",
        "r_squared = r2_score(y_test, y_pred)\n",
        "print('mse = {}'.format(mean_squared_err))\n",
        "print('mae = {}'.format(mean_absolute_err))\n",
        "print('r2 = {}'.format(r_squared))"
      ]
    },
    {
      "cell_type": "markdown",
      "metadata": {
        "id": "bCbSbXaaWlQa"
      },
      "source": [
        "###**Question** : **Note down Linear Regression scores below**\n",
        "mse = 40200.90321655357\n",
        "\n",
        "mae = 150.566266245429\n",
        "\n",
        "r2 = 0.6100029402001252"
      ]
    },
    {
      "cell_type": "markdown",
      "metadata": {
        "id": "S-xEFNn7XJGQ"
      },
      "source": [
        "##2.Ridge Regression"
      ]
    },
    {
      "cell_type": "code",
      "execution_count": null,
      "metadata": {
        "id": "1R_KH7q9w8fK",
        "colab": {
          "base_uri": "https://localhost:8080/"
        },
        "outputId": "e3ddf621-09d5-47ed-c076-2ce6d1a516a6"
      },
      "outputs": [
        {
          "output_type": "stream",
          "name": "stdout",
          "text": [
            "mse = 40201.30759096468\n",
            "mae = 150.58387933711947\n",
            "r2 = 0.6099990172825096\n"
          ]
        }
      ],
      "source": [
        "# Ridge Regression\n",
        "from sklearn.linear_model import Ridge\n",
        "from sklearn.metrics import mean_squared_error, mean_absolute_error, r2_score\n",
        "\n",
        "import warnings\n",
        "warnings.filterwarnings(\"ignore\")\n",
        "\n",
        "model = Ridge(alpha = 0.5)\n",
        "model.fit(X_train, y_train)\n",
        "y_pred = model.predict(X_test)\n",
        "mean_squared_err = mean_squared_error(y_test,y_pred)\n",
        "mean_absolute_err = mean_absolute_error(y_test,y_pred)\n",
        "r_squared = r2_score(y_test, y_pred)\n",
        "print('mse = {}'.format(mean_squared_err))\n",
        "print('mae = {}'.format(mean_absolute_err))\n",
        "print('r2 = {}'.format(r_squared))"
      ]
    },
    {
      "cell_type": "markdown",
      "metadata": {
        "id": "rFWR12gmW8jc"
      },
      "source": [
        "###**Question** : **Note down Ridge Regression scores below**\n",
        "mse = 40201.30759096468\n",
        "\n",
        "mae = 150.58387933711947\n",
        "\n",
        "r2 = 0.6099990172825096"
      ]
    },
    {
      "cell_type": "markdown",
      "metadata": {
        "id": "SRGWjxZ3XOZy"
      },
      "source": [
        "##3.K-Neighbours Regression"
      ]
    },
    {
      "cell_type": "code",
      "execution_count": null,
      "metadata": {
        "id": "2GSDgsXP3hry",
        "colab": {
          "base_uri": "https://localhost:8080/"
        },
        "outputId": "6c917544-6f9d-4f33-d2d4-bf5319b08f8b"
      },
      "outputs": [
        {
          "output_type": "stream",
          "name": "stdout",
          "text": [
            "mse = 28007.556706838786\n",
            "mae = 91.78655919241358\n",
            "r2 = 0.728293050805195\n"
          ]
        }
      ],
      "source": [
        "#KNeighbours Regression\n",
        "from sklearn.neighbors import KNeighborsRegressor\n",
        "from sklearn.metrics import mean_squared_error, mean_absolute_error, r2_score\n",
        "\n",
        "model = KNeighborsRegressor()\n",
        "model.fit(X_train, y_train)\n",
        "y_pred = model.predict(X_test)\n",
        "mean_squared_err = mean_squared_error(y_test,y_pred)\n",
        "mean_absolute_err = mean_absolute_error(y_test,y_pred)\n",
        "r_squared = r2_score(y_test, y_pred)\n",
        "print('mse = {}'.format(mean_squared_err))\n",
        "print('mae = {}'.format(mean_absolute_err))\n",
        "print('r2 = {}'.format(r_squared))"
      ]
    },
    {
      "cell_type": "markdown",
      "metadata": {
        "id": "qpDYoKBuXYus"
      },
      "source": [
        "###**Question** : **Note down K-Neighbours Regression scores below**\n",
        "mse = 28007.556706838786\n",
        "\n",
        "mae = 91.78655919241358\n",
        "\n",
        "r2 = 0.728293050805195"
      ]
    },
    {
      "cell_type": "markdown",
      "metadata": {
        "id": "n8yeZPiOXp_N"
      },
      "source": [
        "##4.Gradient Boosting Regression"
      ]
    },
    {
      "cell_type": "code",
      "execution_count": null,
      "metadata": {
        "id": "6tpJozBc26E9",
        "colab": {
          "base_uri": "https://localhost:8080/"
        },
        "outputId": "a29c0706-948d-4d80-8f6b-df270cbccd9f"
      },
      "outputs": [
        {
          "output_type": "stream",
          "name": "stdout",
          "text": [
            "mse = 24820.576034501035\n",
            "mae = 99.46254317795116\n",
            "r2 = 0.7592105922632923\n"
          ]
        }
      ],
      "source": [
        "# Gradient Boosting Regressor\n",
        "from sklearn.ensemble import GradientBoostingRegressor\n",
        "from sklearn.metrics import mean_squared_error, mean_absolute_error, r2_score\n",
        "\n",
        "model = GradientBoostingRegressor()\n",
        "model.fit(X_train, y_train)\n",
        "y_pred = model.predict(X_test)\n",
        "mean_squared_err = mean_squared_error(y_test,y_pred)\n",
        "mean_absolute_err = mean_absolute_error(y_test,y_pred)\n",
        "r_squared = r2_score(y_test, y_pred)\n",
        "print('mse = {}'.format(mean_squared_err))\n",
        "print('mae = {}'.format(mean_absolute_err))\n",
        "print('r2 = {}'.format(r_squared))"
      ]
    },
    {
      "cell_type": "markdown",
      "metadata": {
        "id": "S5pH7jKZYPKp"
      },
      "source": [
        "###**Question** : **Note down Gradient Boosting Regression scores below**\n",
        "mse = 24820.576034501035\n",
        "\n",
        "mae = 99.46254317795116\n",
        "\n",
        "r2 = 0.7592105922632923"
      ]
    },
    {
      "cell_type": "markdown",
      "metadata": {
        "id": "_eCdpDBgXxsE"
      },
      "source": [
        "##5.Decision Tree Regression"
      ]
    },
    {
      "cell_type": "code",
      "execution_count": null,
      "metadata": {
        "id": "lTXB9bjAxuuB",
        "colab": {
          "base_uri": "https://localhost:8080/"
        },
        "outputId": "df524d49-2790-4057-e63e-423f934f7858"
      },
      "outputs": [
        {
          "output_type": "stream",
          "name": "stdout",
          "text": [
            "mse = 21777.393282982197\n",
            "mae = 63.76527510961558\n",
            "r2 = 0.7887331211262094\n"
          ]
        }
      ],
      "source": [
        "# Decision Tree Regression\n",
        "from sklearn.tree import DecisionTreeRegressor\n",
        "from sklearn.metrics import mean_squared_error, mean_absolute_error, r2_score\n",
        "\n",
        "import warnings\n",
        "warnings.filterwarnings(\"ignore\")\n",
        "\n",
        "model = DecisionTreeRegressor()\n",
        "model.fit(X_train, y_train)\n",
        "y_pred = model.predict(X_test)\n",
        "mean_squared_err = mean_squared_error(y_test,y_pred)\n",
        "mean_absolute_err = mean_absolute_error(y_test,y_pred)\n",
        "r_squared = r2_score(y_test, y_pred)\n",
        "print('mse = {}'.format(mean_squared_err))\n",
        "print('mae = {}'.format(mean_absolute_err))\n",
        "print('r2 = {}'.format(r_squared))"
      ]
    },
    {
      "cell_type": "markdown",
      "metadata": {
        "id": "OnrgVKaoYVfU"
      },
      "source": [
        "###**Question** : **Note down Decision Tree Regression scores below**\n",
        "mse = 21777.393282982197\n",
        "\n",
        "mae = 63.76527510961558\n",
        "\n",
        "r2 = 0.7887331211262094"
      ]
    },
    {
      "cell_type": "markdown",
      "metadata": {
        "id": "U_zeoGdhX6kC"
      },
      "source": [
        "##6.Random Forest Regression"
      ]
    },
    {
      "cell_type": "code",
      "execution_count": null,
      "metadata": {
        "id": "S7D-5dra0oey",
        "colab": {
          "base_uri": "https://localhost:8080/"
        },
        "outputId": "7d770b6d-d36a-492c-b6d3-76eabd6a764e"
      },
      "outputs": [
        {
          "output_type": "stream",
          "name": "stdout",
          "text": [
            "mse = 11227.513760946147\n",
            "mae = 53.90163581835337\n",
            "r2 = 0.8910796274391016\n"
          ]
        }
      ],
      "source": [
        "from sklearn.ensemble import RandomForestRegressor\n",
        "from sklearn.metrics import mean_squared_error, mean_absolute_error, r2_score\n",
        "\n",
        "model = RandomForestRegressor()\n",
        "model.fit(X_train, y_train)\n",
        "y_pred = model.predict(X_test)\n",
        "mean_squared_err = mean_squared_error(y_test,y_pred)\n",
        "mean_absolute_err = mean_absolute_error(y_test,y_pred)\n",
        "r_squared = r2_score(y_test, y_pred)\n",
        "print('mse = {}'.format(mean_squared_err))\n",
        "print('mae = {}'.format(mean_absolute_err))\n",
        "print('r2 = {}'.format(r_squared))"
      ]
    },
    {
      "cell_type": "code",
      "execution_count": null,
      "metadata": {
        "id": "6Y11s_aWt71x",
        "colab": {
          "base_uri": "https://localhost:8080/",
          "height": 355
        },
        "outputId": "0788f102-f1c5-4651-e33e-99f2848f87f8"
      },
      "outputs": [
        {
          "output_type": "display_data",
          "data": {
            "text/plain": [
              "<Figure size 1600x800 with 1 Axes>"
            ],
            "image/png": "[encoded data removed]"
          },
          "metadata": {}
        }
      ],
      "source": [
        "import numpy as np\n",
        "import matplotlib.pyplot as plt\n",
        "\n",
        "axis_x = [i for i in range(100)]\n",
        "plt.figure(figsize=(16, 8))\n",
        "plt.plot(axis_x, y_test[:100], label='actual')\n",
        "plt.plot(axis_x, y_pred[:100], label='predict')\n",
        "plt.legend()\n",
        "plt.show()"
      ]
    },
    {
      "cell_type": "markdown",
      "metadata": {
        "id": "eCvhDa71Yb9I"
      },
      "source": [
        "###**Question** : **Note down Random Forest Regression scores below**\n",
        "mse = 11227.513760946147\n",
        "\n",
        "mae = 53.90163581835337\n",
        "\n",
        "r2 = 0.8910796274391016"
      ]
    },
    {
      "cell_type": "markdown",
      "metadata": {
        "id": "E5-UQhKqWSVw"
      },
      "source": [
        "##7.Cross Validation & Model Selection\n",
        "Let us try cross validating to ensure that these model is not overfitted."
      ]
    },
    {
      "cell_type": "code",
      "execution_count": null,
      "metadata": {
        "id": "AhIBHu-7hEs-",
        "colab": {
          "base_uri": "https://localhost:8080/"
        },
        "outputId": "17fc1aee-5ff6-4fc1-b49f-540ab5aabf80"
      },
      "outputs": [
        {
          "output_type": "stream",
          "name": "stdout",
          "text": [
            "Linear Regression: 0.600 , -39555.491 , -149.537\n",
            "Ridge Regression: 0.600 , -39555.661 , -149.566\n",
            "KNeighbors: 0.712 , -28496.140 , -92.579\n",
            "Gradient Boosting: 0.748 , -24884.228 , -99.634\n",
            "Decision Tree: 0.766 , -23120.549 , -66.218\n",
            "Random Forest: 0.877 , -12188.071 , -56.159\n"
          ]
        }
      ],
      "source": [
        "from sklearn.model_selection import cross_validate\n",
        "from sklearn.metrics import mean_absolute_error, r2_score, mean_squared_error\n",
        "\n",
        "models=[(\"Linear Regression\", LinearRegression()),\n",
        "        (\"Ridge Regression\", Ridge()),\n",
        "        (\"KNeighbors\", KNeighborsRegressor()),\n",
        "        (\"Gradient Boosting\", GradientBoostingRegressor()),\n",
        "        (\"Decision Tree\", DecisionTreeRegressor()),\n",
        "        (\"Random Forest\", RandomForestRegressor())]\n",
        "\n",
        "all_data=[]\n",
        "scoring = {'r2': 'r2',\n",
        "           'mean_absolute_error': 'neg_mean_absolute_error',\n",
        "           'mean_squared_error': 'neg_mean_squared_error'}\n",
        "\n",
        "for name, model in models:\n",
        "    results = cross_validate(model, X_train, y_train, cv=10, scoring=scoring)\n",
        "    all_data.append({'model':name, 'score':results})\n",
        "    print(f\"{name}: {results['test_r2'].mean():.3f} , {results['test_mean_squared_error'].mean():.3f} , {results['test_mean_absolute_error'].mean():.3f}\" )"
      ]
    },
    {
      "cell_type": "code",
      "execution_count": null,
      "metadata": {
        "id": "Xju3lEhIpMPv",
        "colab": {
          "base_uri": "https://localhost:8080/"
        },
        "outputId": "4a234cd9-c0e8-44b6-a6ec-2e7a4e0af89e"
      },
      "outputs": [
        {
          "output_type": "stream",
          "name": "stdout",
          "text": [
            "{'model': ['Linear Regression', 'Ridge Regression', 'KNeighbors', 'Gradient Boosting', 'Decision Tree', 'Random Forest'], 'r2': [np.float64(59.97863723310116), np.float64(59.97844139001709), np.float64(71.19710606832773), np.float64(74.81490796869849), np.float64(76.60291295343093), np.float64(87.67154013615924)], 'mse': [np.float64(39555.49141900496), np.float64(39555.66111016508), np.float64(28496.139930495876), np.float64(24884.227810491688), np.float64(23120.54945415278), np.float64(12188.07086680922)], 'mae': [np.float64(149.53664634387198), np.float64(149.56553596659398), np.float64(92.57901940060947), np.float64(99.63433416515602), np.float64(66.21753841649344), np.float64(56.15886060421235)]}\n"
          ]
        }
      ],
      "source": [
        "performance = {'model':[], 'r2':[], 'mse':[], 'mae':[]}\n",
        "\n",
        "for d in all_data:\n",
        "    performance['model'].append(d['model'])\n",
        "    performance['r2'].append(np.abs(d['score']['test_r2'].mean())*100)\n",
        "    performance['mse'].append(np.abs(d['score']['test_mean_squared_error'].mean()))\n",
        "    performance['mae'].append(np.abs(d['score']['test_mean_absolute_error'].mean()))\n",
        "\n",
        "print(performance)"
      ]
    },
    {
      "cell_type": "code",
      "execution_count": null,
      "metadata": {
        "id": "YjcD6T0epMPv",
        "colab": {
          "base_uri": "https://localhost:8080/",
          "height": 435
        },
        "outputId": "6053752b-3b86-4a64-8c5a-57d4533788c7"
      },
      "outputs": [
        {
          "output_type": "display_data",
          "data": {
            "text/plain": [
              "<Figure size 1000x600 with 1 Axes>"
            ],
            "image/png": "[encoded data removed]"
          },
          "metadata": {}
        }
      ],
      "source": [
        "# r2 score comparison across models\n",
        "fig, ax = plt.subplots(figsize=(10, 6))\n",
        "sns.barplot(x=\"model\", y='r2', data=performance, color=\"lightblue\");"
      ]
    },
    {
      "cell_type": "code",
      "execution_count": null,
      "metadata": {
        "id": "W7vTFt3rpMPv",
        "colab": {
          "base_uri": "https://localhost:8080/",
          "height": 430
        },
        "outputId": "259ba2ec-8f84-45e3-e8df-b55db040f6af"
      },
      "outputs": [
        {
          "output_type": "display_data",
          "data": {
            "text/plain": [
              "<Figure size 1000x600 with 1 Axes>"
            ],
            "image/png": "[encoded data removed]"
          },
          "metadata": {}
        }
      ],
      "source": [
        "# mae score comparison across models\n",
        "fig, ax = plt.subplots(figsize=(10, 6))\n",
        "sns.barplot(x=\"model\", y='mae', data=performance, color=\"lightblue\");"
      ]
    },
    {
      "cell_type": "code",
      "execution_count": null,
      "metadata": {
        "id": "N23YvUefpMPw",
        "colab": {
          "base_uri": "https://localhost:8080/",
          "height": 422
        },
        "outputId": "838a7463-703b-4332-8972-152ce7d408af"
      },
      "outputs": [
        {
          "output_type": "display_data",
          "data": {
            "text/plain": [
              "<Figure size 1000x600 with 1 Axes>"
            ],
            "image/png": "[encoded data removed]"
          },
          "metadata": {}
        }
      ],
      "source": [
        "# mse score comparison across models\n",
        "fig, ax = plt.subplots(figsize=(10, 6))\n",
        "sns.barplot(x=\"model\", y='mse', data=performance, color=\"lightblue\");"
      ]
    },
    {
      "cell_type": "markdown",
      "metadata": {
        "id": "ZjVsDp1QXH2d"
      },
      "source": [
        "###**Question** : **Which model performance is the best after cross validation?**\n",
        "random forest"
      ]
    },
    {
      "cell_type": "markdown",
      "metadata": {
        "id": "JGr_0SPFLcwe"
      },
      "source": [
        "\n",
        "\n",
        "---\n",
        "#**Neural Network**\n",
        "\n",
        "\n",
        "---\n",
        "\n",
        "\n"
      ]
    },
    {
      "cell_type": "code",
      "execution_count": null,
      "metadata": {
        "id": "_rcodUkPRS0x"
      },
      "outputs": [],
      "source": [
        "df = dataset.copy()"
      ]
    },
    {
      "cell_type": "code",
      "execution_count": null,
      "metadata": {
        "id": "TbREZyS_SnQb",
        "colab": {
          "base_uri": "https://localhost:8080/",
          "height": 267
        },
        "outputId": "f5f9fa1a-6070-423e-d1c5-c09576c8d997"
      },
      "outputs": [
        {
          "output_type": "execute_result",
          "data": {
            "text/plain": [
              "                             UNIXTime                  Data      Time  \\\n",
              "UNIXTime                                                                \n",
              "2016-09-01 00:00:08-10:00  1472724008  9/1/2016 12:00:00 AM  00:00:08   \n",
              "2016-09-01 00:05:10-10:00  1472724310  9/1/2016 12:00:00 AM  00:05:10   \n",
              "\n",
              "                           Radiation  Temperature  Pressure  Humidity  \\\n",
              "UNIXTime                                                                \n",
              "2016-09-01 00:00:08-10:00       2.58           51     30.43       103   \n",
              "2016-09-01 00:05:10-10:00       2.83           51     30.43       103   \n",
              "\n",
              "                           WindDirection(Degrees)  Speed TimeSunRise  \\\n",
              "UNIXTime                                                               \n",
              "2016-09-01 00:00:08-10:00                   77.27  11.25    06:07:00   \n",
              "2016-09-01 00:05:10-10:00                  153.44   9.00    06:07:00   \n",
              "\n",
              "                          TimeSunSet  MonthOfYear  DayOfYear  WeekOfYear  \\\n",
              "UNIXTime                                                                   \n",
              "2016-09-01 00:00:08-10:00   18:38:00            9        245          35   \n",
              "2016-09-01 00:05:10-10:00   18:38:00            9        245          35   \n",
              "\n",
              "                           Hour  Month        Date  Total_time  \n",
              "UNIXTime                                                        \n",
              "2016-09-01 00:00:08-10:00     0      9  2016-09-01          12  \n",
              "2016-09-01 00:05:10-10:00     0      9  2016-09-01          12  "
            ],
            "text/html": [
              "\n",
              "  <div id=\"df-6feee5d4-e7f8-4c5f-b00a-b92915df55a8\" class=\"colab-df-container\">\n",
              "    <div>\n",
              "<style scoped>\n",
              "    .dataframe tbody tr th:only-of-type {\n",
              "        vertical-align: middle;\n",
              "    }\n",
              "\n",
              "    .dataframe tbody tr th {\n",
              "        vertical-align: top;\n",
              "    }\n",
              "\n",
              "    .dataframe thead th {\n",
              "        text-align: right;\n",
              "    }\n",
              "</style>\n",
              "<table border=\"1\" class=\"dataframe\">\n",
              "  <thead>\n",
              "    <tr style=\"text-align: right;\">\n",
              "      <th></th>\n",
              "      <th>UNIXTime</th>\n",
              "      <th>Data</th>\n",
              "      <th>Time</th>\n",
              "      <th>Radiation</th>\n",
              "      <th>Temperature</th>\n",
              "      <th>Pressure</th>\n",
              "      <th>Humidity</th>\n",
              "      <th>WindDirection(Degrees)</th>\n",
              "      <th>Speed</th>\n",
              "      <th>TimeSunRise</th>\n",
              "      <th>TimeSunSet</th>\n",
              "      <th>MonthOfYear</th>\n",
              "      <th>DayOfYear</th>\n",
              "      <th>WeekOfYear</th>\n",
              "      <th>Hour</th>\n",
              "      <th>Month</th>\n",
              "      <th>Date</th>\n",
              "      <th>Total_time</th>\n",
              "    </tr>\n",
              "    <tr>\n",
              "      <th>UNIXTime</th>\n",
              "      <th></th>\n",
              "      <th></th>\n",
              "      <th></th>\n",
              "      <th></th>\n",
              "      <th></th>\n",
              "      <th></th>\n",
              "      <th></th>\n",
              "      <th></th>\n",
              "      <th></th>\n",
              "      <th></th>\n",
              "      <th></th>\n",
              "      <th></th>\n",
              "      <th></th>\n",
              "      <th></th>\n",
              "      <th></th>\n",
              "      <th></th>\n",
              "      <th></th>\n",
              "      <th></th>\n",
              "    </tr>\n",
              "  </thead>\n",
              "  <tbody>\n",
              "    <tr>\n",
              "      <th>2016-09-01 00:00:08-10:00</th>\n",
              "      <td>1472724008</td>\n",
              "      <td>9/1/2016 12:00:00 AM</td>\n",
              "      <td>00:00:08</td>\n",
              "      <td>2.58</td>\n",
              "      <td>51</td>\n",
              "      <td>30.43</td>\n",
              "      <td>103</td>\n",
              "      <td>77.27</td>\n",
              "      <td>11.25</td>\n",
              "      <td>06:07:00</td>\n",
              "      <td>18:38:00</td>\n",
              "      <td>9</td>\n",
              "      <td>245</td>\n",
              "      <td>35</td>\n",
              "      <td>0</td>\n",
              "      <td>9</td>\n",
              "      <td>2016-09-01</td>\n",
              "      <td>12</td>\n",
              "    </tr>\n",
              "    <tr>\n",
              "      <th>2016-09-01 00:05:10-10:00</th>\n",
              "      <td>1472724310</td>\n",
              "      <td>9/1/2016 12:00:00 AM</td>\n",
              "      <td>00:05:10</td>\n",
              "      <td>2.83</td>\n",
              "      <td>51</td>\n",
              "      <td>30.43</td>\n",
              "      <td>103</td>\n",
              "      <td>153.44</td>\n",
              "      <td>9.00</td>\n",
              "      <td>06:07:00</td>\n",
              "      <td>18:38:00</td>\n",
              "      <td>9</td>\n",
              "      <td>245</td>\n",
              "      <td>35</td>\n",
              "      <td>0</td>\n",
              "      <td>9</td>\n",
              "      <td>2016-09-01</td>\n",
              "      <td>12</td>\n",
              "    </tr>\n",
              "  </tbody>\n",
              "</table>\n",
              "</div>\n",
              "    <div class=\"colab-df-buttons\">\n",
              "\n",
              "  <div class=\"colab-df-container\">\n",
              "    <button class=\"colab-df-convert\" onclick=\"convertToInteractive('df-6feee5d4-e7f8-4c5f-b00a-b92915df55a8')\"\n",
              "            title=\"Convert this dataframe to an interactive table.\"\n",
              "            style=\"display:none;\">\n",
              "\n",
              "  <svg xmlns=\"http://www.w3.org/2000/svg\" height=\"24px\" viewBox=\"0 -960 960 960\">\n",
              "    <path d=\"M120-120v-720h720v720H120Zm60-500h600v-160H180v160Zm220 220h160v-160H400v160Zm0 220h160v-160H400v160ZM180-400h160v-160H180v160Zm440 0h160v-160H620v160ZM180-180h160v-160H180v160Zm440 0h160v-160H620v160Z\"/>\n",
              "  </svg>\n",
              "    </button>\n",
              "\n",
              "  <style>\n",
              "    .colab-df-container {\n",
              "      display:flex;\n",
              "      gap: 12px;\n",
              "    }\n",
              "\n",
              "    .colab-df-convert {\n",
              "      background-color: #E8F0FE;\n",
              "      border: none;\n",
              "      border-radius: 50%;\n",
              "      cursor: pointer;\n",
              "      display: none;\n",
              "      fill: #1967D2;\n",
              "      height: 32px;\n",
              "      padding: 0 0 0 0;\n",
              "      width: 32px;\n",
              "    }\n",
              "\n",
              "    .colab-df-convert:hover {\n",
              "      background-color: #E2EBFA;\n",
              "      box-shadow: 0px 1px 2px rgba(60, 64, 67, 0.3), 0px 1px 3px 1px rgba(60, 64, 67, 0.15);\n",
              "      fill: #174EA6;\n",
              "    }\n",
              "\n",
              "    .colab-df-buttons div {\n",
              "      margin-bottom: 4px;\n",
              "    }\n",
              "\n",
              "    [theme=dark] .colab-df-convert {\n",
              "      background-color: #3B4455;\n",
              "      fill: #D2E3FC;\n",
              "    }\n",
              "\n",
              "    [theme=dark] .colab-df-convert:hover {\n",
              "      background-color: #434B5C;\n",
              "      box-shadow: 0px 1px 3px 1px rgba(0, 0, 0, 0.15);\n",
              "      filter: drop-shadow(0px 1px 2px rgba(0, 0, 0, 0.3));\n",
              "      fill: #FFFFFF;\n",
              "    }\n",
              "  </style>\n",
              "\n",
              "    <script>\n",
              "      const buttonEl =\n",
              "        document.querySelector('#df-6feee5d4-e7f8-4c5f-b00a-b92915df55a8 button.colab-df-convert');\n",
              "      buttonEl.style.display =\n",
              "        google.colab.kernel.accessAllowed ? 'block' : 'none';\n",
              "\n",
              "      async function convertToInteractive(key) {\n",
              "        const element = document.querySelector('#df-6feee5d4-e7f8-4c5f-b00a-b92915df55a8');\n",
              "        const dataTable =\n",
              "          await google.colab.kernel.invokeFunction('convertToInteractive',\n",
              "                                                    [key], {});\n",
              "        if (!dataTable) return;\n",
              "\n",
              "        const docLinkHtml = 'Like what you see? Visit the ' +\n",
              "          '<a target=\"_blank\" href=https://colab.research.google.com/notebooks/data_table.ipynb>data table notebook</a>'\n",
              "          + ' to learn more about interactive tables.';\n",
              "        element.innerHTML = '';\n",
              "        dataTable['output_type'] = 'display_data';\n",
              "        await google.colab.output.renderOutput(dataTable, element);\n",
              "        const docLink = document.createElement('div');\n",
              "        docLink.innerHTML = docLinkHtml;\n",
              "        element.appendChild(docLink);\n",
              "      }\n",
              "    </script>\n",
              "  </div>\n",
              "\n",
              "\n",
              "    <div id=\"df-4310df1a-2eb2-47dd-9d45-a3a86e2d7ca4\">\n",
              "      <button class=\"colab-df-quickchart\" onclick=\"quickchart('df-4310df1a-2eb2-47dd-9d45-a3a86e2d7ca4')\"\n",
              "                title=\"Suggest charts\"\n",
              "                style=\"display:none;\">\n",
              "\n",
              "<svg xmlns=\"http://www.w3.org/2000/svg\" height=\"24px\"viewBox=\"0 0 24 24\"\n",
              "     width=\"24px\">\n",
              "    <g>\n",
              "        <path d=\"M19 3H5c-1.1 0-2 .9-2 2v14c0 1.1.9 2 2 2h14c1.1 0 2-.9 2-2V5c0-1.1-.9-2-2-2zM9 17H7v-7h2v7zm4 0h-2V7h2v10zm4 0h-2v-4h2v4z\"/>\n",
              "    </g>\n",
              "</svg>\n",
              "      </button>\n",
              "\n",
              "<style>\n",
              "  .colab-df-quickchart {\n",
              "      --bg-color: #E8F0FE;\n",
              "      --fill-color: #1967D2;\n",
              "      --hover-bg-color: #E2EBFA;\n",
              "      --hover-fill-color: #174EA6;\n",
              "      --disabled-fill-color: #AAA;\n",
              "      --disabled-bg-color: #DDD;\n",
              "  }\n",
              "\n",
              "  [theme=dark] .colab-df-quickchart {\n",
              "      --bg-color: #3B4455;\n",
              "      --fill-color: #D2E3FC;\n",
              "      --hover-bg-color: #434B5C;\n",
              "      --hover-fill-color: #FFFFFF;\n",
              "      --disabled-bg-color: #3B4455;\n",
              "      --disabled-fill-color: #666;\n",
              "  }\n",
              "\n",
              "  .colab-df-quickchart {\n",
              "    background-color: var(--bg-color);\n",
              "    border: none;\n",
              "    border-radius: 50%;\n",
              "    cursor: pointer;\n",
              "    display: none;\n",
              "    fill: var(--fill-color);\n",
              "    height: 32px;\n",
              "    padding: 0;\n",
              "    width: 32px;\n",
              "  }\n",
              "\n",
              "  .colab-df-quickchart:hover {\n",
              "    background-color: var(--hover-bg-color);\n",
              "    box-shadow: 0 1px 2px rgba(60, 64, 67, 0.3), 0 1px 3px 1px rgba(60, 64, 67, 0.15);\n",
              "    fill: var(--button-hover-fill-color);\n",
              "  }\n",
              "\n",
              "  .colab-df-quickchart-complete:disabled,\n",
              "  .colab-df-quickchart-complete:disabled:hover {\n",
              "    background-color: var(--disabled-bg-color);\n",
              "    fill: var(--disabled-fill-color);\n",
              "    box-shadow: none;\n",
              "  }\n",
              "\n",
              "  .colab-df-spinner {\n",
              "    border: 2px solid var(--fill-color);\n",
              "    border-color: transparent;\n",
              "    border-bottom-color: var(--fill-color);\n",
              "    animation:\n",
              "      spin 1s steps(1) infinite;\n",
              "  }\n",
              "\n",
              "  @keyframes spin {\n",
              "    0% {\n",
              "      border-color: transparent;\n",
              "      border-bottom-color: var(--fill-color);\n",
              "      border-left-color: var(--fill-color);\n",
              "    }\n",
              "    20% {\n",
              "      border-color: transparent;\n",
              "      border-left-color: var(--fill-color);\n",
              "      border-top-color: var(--fill-color);\n",
              "    }\n",
              "    30% {\n",
              "      border-color: transparent;\n",
              "      border-left-color: var(--fill-color);\n",
              "      border-top-color: var(--fill-color);\n",
              "      border-right-color: var(--fill-color);\n",
              "    }\n",
              "    40% {\n",
              "      border-color: transparent;\n",
              "      border-right-color: var(--fill-color);\n",
              "      border-top-color: var(--fill-color);\n",
              "    }\n",
              "    60% {\n",
              "      border-color: transparent;\n",
              "      border-right-color: var(--fill-color);\n",
              "    }\n",
              "    80% {\n",
              "      border-color: transparent;\n",
              "      border-right-color: var(--fill-color);\n",
              "      border-bottom-color: var(--fill-color);\n",
              "    }\n",
              "    90% {\n",
              "      border-color: transparent;\n",
              "      border-bottom-color: var(--fill-color);\n",
              "    }\n",
              "  }\n",
              "</style>\n",
              "\n",
              "      <script>\n",
              "        async function quickchart(key) {\n",
              "          const quickchartButtonEl =\n",
              "            document.querySelector('#' + key + ' button');\n",
              "          quickchartButtonEl.disabled = true;  // To prevent multiple clicks.\n",
              "          quickchartButtonEl.classList.add('colab-df-spinner');\n",
              "          try {\n",
              "            const charts = await google.colab.kernel.invokeFunction(\n",
              "                'suggestCharts', [key], {});\n",
              "          } catch (error) {\n",
              "            console.error('Error during call to suggestCharts:', error);\n",
              "          }\n",
              "          quickchartButtonEl.classList.remove('colab-df-spinner');\n",
              "          quickchartButtonEl.classList.add('colab-df-quickchart-complete');\n",
              "        }\n",
              "        (() => {\n",
              "          let quickchartButtonEl =\n",
              "            document.querySelector('#df-4310df1a-2eb2-47dd-9d45-a3a86e2d7ca4 button');\n",
              "          quickchartButtonEl.style.display =\n",
              "            google.colab.kernel.accessAllowed ? 'block' : 'none';\n",
              "        })();\n",
              "      </script>\n",
              "    </div>\n",
              "\n",
              "    </div>\n",
              "  </div>\n"
            ],
            "application/vnd.google.colaboratory.intrinsic+json": {
              "type": "dataframe",
              "variable_name": "df",
              "repr_error": "cannot insert UNIXTime, already exists"
            }
          },
          "metadata": {},
          "execution_count": 34
        }
      ],
      "source": [
        "df.head(2)"
      ]
    },
    {
      "cell_type": "code",
      "execution_count": null,
      "metadata": {
        "id": "H2eiNCi8TKhB",
        "colab": {
          "base_uri": "https://localhost:8080/",
          "height": 518
        },
        "outputId": "b5d222db-d162-4b10-a95c-239b922b1062"
      },
      "outputs": [
        {
          "output_type": "execute_result",
          "data": {
            "text/plain": [
              "                             UNIXTime  Radiation  Temperature  Pressure  \\\n",
              "UNIXTime                                                                  \n",
              "2016-09-01 00:00:08-10:00  1472724008       2.58           51     30.43   \n",
              "2016-09-01 00:05:10-10:00  1472724310       2.83           51     30.43   \n",
              "2016-09-01 00:20:06-10:00  1472725206       2.16           51     30.43   \n",
              "2016-09-01 00:25:05-10:00  1472725505       2.21           51     30.43   \n",
              "2016-09-01 00:30:09-10:00  1472725809       2.25           51     30.43   \n",
              "\n",
              "                           Humidity  Speed  MonthOfYear  DayOfYear  \\\n",
              "UNIXTime                                                             \n",
              "2016-09-01 00:00:08-10:00       103  11.25            9        245   \n",
              "2016-09-01 00:05:10-10:00       103   9.00            9        245   \n",
              "2016-09-01 00:20:06-10:00       103   7.87            9        245   \n",
              "2016-09-01 00:25:05-10:00       103  18.00            9        245   \n",
              "2016-09-01 00:30:09-10:00       103  11.25            9        245   \n",
              "\n",
              "                           WeekOfYear  Total_time  \n",
              "UNIXTime                                           \n",
              "2016-09-01 00:00:08-10:00          35          12  \n",
              "2016-09-01 00:05:10-10:00          35          12  \n",
              "2016-09-01 00:20:06-10:00          35          12  \n",
              "2016-09-01 00:25:05-10:00          35          12  \n",
              "2016-09-01 00:30:09-10:00          35          12  "
            ],
            "text/html": [
              "\n",
              "  <div id=\"df-d5763237-1333-40ee-beaa-11d214cc3aa2\" class=\"colab-df-container\">\n",
              "    <div>\n",
              "<style scoped>\n",
              "    .dataframe tbody tr th:only-of-type {\n",
              "        vertical-align: middle;\n",
              "    }\n",
              "\n",
              "    .dataframe tbody tr th {\n",
              "        vertical-align: top;\n",
              "    }\n",
              "\n",
              "    .dataframe thead th {\n",
              "        text-align: right;\n",
              "    }\n",
              "</style>\n",
              "<table border=\"1\" class=\"dataframe\">\n",
              "  <thead>\n",
              "    <tr style=\"text-align: right;\">\n",
              "      <th></th>\n",
              "      <th>UNIXTime</th>\n",
              "      <th>Radiation</th>\n",
              "      <th>Temperature</th>\n",
              "      <th>Pressure</th>\n",
              "      <th>Humidity</th>\n",
              "      <th>Speed</th>\n",
              "      <th>MonthOfYear</th>\n",
              "      <th>DayOfYear</th>\n",
              "      <th>WeekOfYear</th>\n",
              "      <th>Total_time</th>\n",
              "    </tr>\n",
              "    <tr>\n",
              "      <th>UNIXTime</th>\n",
              "      <th></th>\n",
              "      <th></th>\n",
              "      <th></th>\n",
              "      <th></th>\n",
              "      <th></th>\n",
              "      <th></th>\n",
              "      <th></th>\n",
              "      <th></th>\n",
              "      <th></th>\n",
              "      <th></th>\n",
              "    </tr>\n",
              "  </thead>\n",
              "  <tbody>\n",
              "    <tr>\n",
              "      <th>2016-09-01 00:00:08-10:00</th>\n",
              "      <td>1472724008</td>\n",
              "      <td>2.58</td>\n",
              "      <td>51</td>\n",
              "      <td>30.43</td>\n",
              "      <td>103</td>\n",
              "      <td>11.25</td>\n",
              "      <td>9</td>\n",
              "      <td>245</td>\n",
              "      <td>35</td>\n",
              "      <td>12</td>\n",
              "    </tr>\n",
              "    <tr>\n",
              "      <th>2016-09-01 00:05:10-10:00</th>\n",
              "      <td>1472724310</td>\n",
              "      <td>2.83</td>\n",
              "      <td>51</td>\n",
              "      <td>30.43</td>\n",
              "      <td>103</td>\n",
              "      <td>9.00</td>\n",
              "      <td>9</td>\n",
              "      <td>245</td>\n",
              "      <td>35</td>\n",
              "      <td>12</td>\n",
              "    </tr>\n",
              "    <tr>\n",
              "      <th>2016-09-01 00:20:06-10:00</th>\n",
              "      <td>1472725206</td>\n",
              "      <td>2.16</td>\n",
              "      <td>51</td>\n",
              "      <td>30.43</td>\n",
              "      <td>103</td>\n",
              "      <td>7.87</td>\n",
              "      <td>9</td>\n",
              "      <td>245</td>\n",
              "      <td>35</td>\n",
              "      <td>12</td>\n",
              "    </tr>\n",
              "    <tr>\n",
              "      <th>2016-09-01 00:25:05-10:00</th>\n",
              "      <td>1472725505</td>\n",
              "      <td>2.21</td>\n",
              "      <td>51</td>\n",
              "      <td>30.43</td>\n",
              "      <td>103</td>\n",
              "      <td>18.00</td>\n",
              "      <td>9</td>\n",
              "      <td>245</td>\n",
              "      <td>35</td>\n",
              "      <td>12</td>\n",
              "    </tr>\n",
              "    <tr>\n",
              "      <th>2016-09-01 00:30:09-10:00</th>\n",
              "      <td>1472725809</td>\n",
              "      <td>2.25</td>\n",
              "      <td>51</td>\n",
              "      <td>30.43</td>\n",
              "      <td>103</td>\n",
              "      <td>11.25</td>\n",
              "      <td>9</td>\n",
              "      <td>245</td>\n",
              "      <td>35</td>\n",
              "      <td>12</td>\n",
              "    </tr>\n",
              "  </tbody>\n",
              "</table>\n",
              "</div>\n",
              "    <div class=\"colab-df-buttons\">\n",
              "\n",
              "  <div class=\"colab-df-container\">\n",
              "    <button class=\"colab-df-convert\" onclick=\"convertToInteractive('df-d5763237-1333-40ee-beaa-11d214cc3aa2')\"\n",
              "            title=\"Convert this dataframe to an interactive table.\"\n",
              "            style=\"display:none;\">\n",
              "\n",
              "  <svg xmlns=\"http://www.w3.org/2000/svg\" height=\"24px\" viewBox=\"0 -960 960 960\">\n",
              "    <path d=\"M120-120v-720h720v720H120Zm60-500h600v-160H180v160Zm220 220h160v-160H400v160Zm0 220h160v-160H400v160ZM180-400h160v-160H180v160Zm440 0h160v-160H620v160ZM180-180h160v-160H180v160Zm440 0h160v-160H620v160Z\"/>\n",
              "  </svg>\n",
              "    </button>\n",
              "\n",
              "  <style>\n",
              "    .colab-df-container {\n",
              "      display:flex;\n",
              "      gap: 12px;\n",
              "    }\n",
              "\n",
              "    .colab-df-convert {\n",
              "      background-color: #E8F0FE;\n",
              "      border: none;\n",
              "      border-radius: 50%;\n",
              "      cursor: pointer;\n",
              "      display: none;\n",
              "      fill: #1967D2;\n",
              "      height: 32px;\n",
              "      padding: 0 0 0 0;\n",
              "      width: 32px;\n",
              "    }\n",
              "\n",
              "    .colab-df-convert:hover {\n",
              "      background-color: #E2EBFA;\n",
              "      box-shadow: 0px 1px 2px rgba(60, 64, 67, 0.3), 0px 1px 3px 1px rgba(60, 64, 67, 0.15);\n",
              "      fill: #174EA6;\n",
              "    }\n",
              "\n",
              "    .colab-df-buttons div {\n",
              "      margin-bottom: 4px;\n",
              "    }\n",
              "\n",
              "    [theme=dark] .colab-df-convert {\n",
              "      background-color: #3B4455;\n",
              "      fill: #D2E3FC;\n",
              "    }\n",
              "\n",
              "    [theme=dark] .colab-df-convert:hover {\n",
              "      background-color: #434B5C;\n",
              "      box-shadow: 0px 1px 3px 1px rgba(0, 0, 0, 0.15);\n",
              "      filter: drop-shadow(0px 1px 2px rgba(0, 0, 0, 0.3));\n",
              "      fill: #FFFFFF;\n",
              "    }\n",
              "  </style>\n",
              "\n",
              "    <script>\n",
              "      const buttonEl =\n",
              "        document.querySelector('#df-d5763237-1333-40ee-beaa-11d214cc3aa2 button.colab-df-convert');\n",
              "      buttonEl.style.display =\n",
              "        google.colab.kernel.accessAllowed ? 'block' : 'none';\n",
              "\n",
              "      async function convertToInteractive(key) {\n",
              "        const element = document.querySelector('#df-d5763237-1333-40ee-beaa-11d214cc3aa2');\n",
              "        const dataTable =\n",
              "          await google.colab.kernel.invokeFunction('convertToInteractive',\n",
              "                                                    [key], {});\n",
              "        if (!dataTable) return;\n",
              "\n",
              "        const docLinkHtml = 'Like what you see? Visit the ' +\n",
              "          '<a target=\"_blank\" href=https://colab.research.google.com/notebooks/data_table.ipynb>data table notebook</a>'\n",
              "          + ' to learn more about interactive tables.';\n",
              "        element.innerHTML = '';\n",
              "        dataTable['output_type'] = 'display_data';\n",
              "        await google.colab.output.renderOutput(dataTable, element);\n",
              "        const docLink = document.createElement('div');\n",
              "        docLink.innerHTML = docLinkHtml;\n",
              "        element.appendChild(docLink);\n",
              "      }\n",
              "    </script>\n",
              "  </div>\n",
              "\n",
              "\n",
              "    <div id=\"df-b59d8460-050e-4b92-a972-1675f44326f3\">\n",
              "      <button class=\"colab-df-quickchart\" onclick=\"quickchart('df-b59d8460-050e-4b92-a972-1675f44326f3')\"\n",
              "                title=\"Suggest charts\"\n",
              "                style=\"display:none;\">\n",
              "\n",
              "<svg xmlns=\"http://www.w3.org/2000/svg\" height=\"24px\"viewBox=\"0 0 24 24\"\n",
              "     width=\"24px\">\n",
              "    <g>\n",
              "        <path d=\"M19 3H5c-1.1 0-2 .9-2 2v14c0 1.1.9 2 2 2h14c1.1 0 2-.9 2-2V5c0-1.1-.9-2-2-2zM9 17H7v-7h2v7zm4 0h-2V7h2v10zm4 0h-2v-4h2v4z\"/>\n",
              "    </g>\n",
              "</svg>\n",
              "      </button>\n",
              "\n",
              "<style>\n",
              "  .colab-df-quickchart {\n",
              "      --bg-color: #E8F0FE;\n",
              "      --fill-color: #1967D2;\n",
              "      --hover-bg-color: #E2EBFA;\n",
              "      --hover-fill-color: #174EA6;\n",
              "      --disabled-fill-color: #AAA;\n",
              "      --disabled-bg-color: #DDD;\n",
              "  }\n",
              "\n",
              "  [theme=dark] .colab-df-quickchart {\n",
              "      --bg-color: #3B4455;\n",
              "      --fill-color: #D2E3FC;\n",
              "      --hover-bg-color: #434B5C;\n",
              "      --hover-fill-color: #FFFFFF;\n",
              "      --disabled-bg-color: #3B4455;\n",
              "      --disabled-fill-color: #666;\n",
              "  }\n",
              "\n",
              "  .colab-df-quickchart {\n",
              "    background-color: var(--bg-color);\n",
              "    border: none;\n",
              "    border-radius: 50%;\n",
              "    cursor: pointer;\n",
              "    display: none;\n",
              "    fill: var(--fill-color);\n",
              "    height: 32px;\n",
              "    padding: 0;\n",
              "    width: 32px;\n",
              "  }\n",
              "\n",
              "  .colab-df-quickchart:hover {\n",
              "    background-color: var(--hover-bg-color);\n",
              "    box-shadow: 0 1px 2px rgba(60, 64, 67, 0.3), 0 1px 3px 1px rgba(60, 64, 67, 0.15);\n",
              "    fill: var(--button-hover-fill-color);\n",
              "  }\n",
              "\n",
              "  .colab-df-quickchart-complete:disabled,\n",
              "  .colab-df-quickchart-complete:disabled:hover {\n",
              "    background-color: var(--disabled-bg-color);\n",
              "    fill: var(--disabled-fill-color);\n",
              "    box-shadow: none;\n",
              "  }\n",
              "\n",
              "  .colab-df-spinner {\n",
              "    border: 2px solid var(--fill-color);\n",
              "    border-color: transparent;\n",
              "    border-bottom-color: var(--fill-color);\n",
              "    animation:\n",
              "      spin 1s steps(1) infinite;\n",
              "  }\n",
              "\n",
              "  @keyframes spin {\n",
              "    0% {\n",
              "      border-color: transparent;\n",
              "      border-bottom-color: var(--fill-color);\n",
              "      border-left-color: var(--fill-color);\n",
              "    }\n",
              "    20% {\n",
              "      border-color: transparent;\n",
              "      border-left-color: var(--fill-color);\n",
              "      border-top-color: var(--fill-color);\n",
              "    }\n",
              "    30% {\n",
              "      border-color: transparent;\n",
              "      border-left-color: var(--fill-color);\n",
              "      border-top-color: var(--fill-color);\n",
              "      border-right-color: var(--fill-color);\n",
              "    }\n",
              "    40% {\n",
              "      border-color: transparent;\n",
              "      border-right-color: var(--fill-color);\n",
              "      border-top-color: var(--fill-color);\n",
              "    }\n",
              "    60% {\n",
              "      border-color: transparent;\n",
              "      border-right-color: var(--fill-color);\n",
              "    }\n",
              "    80% {\n",
              "      border-color: transparent;\n",
              "      border-right-color: var(--fill-color);\n",
              "      border-bottom-color: var(--fill-color);\n",
              "    }\n",
              "    90% {\n",
              "      border-color: transparent;\n",
              "      border-bottom-color: var(--fill-color);\n",
              "    }\n",
              "  }\n",
              "</style>\n",
              "\n",
              "      <script>\n",
              "        async function quickchart(key) {\n",
              "          const quickchartButtonEl =\n",
              "            document.querySelector('#' + key + ' button');\n",
              "          quickchartButtonEl.disabled = true;  // To prevent multiple clicks.\n",
              "          quickchartButtonEl.classList.add('colab-df-spinner');\n",
              "          try {\n",
              "            const charts = await google.colab.kernel.invokeFunction(\n",
              "                'suggestCharts', [key], {});\n",
              "          } catch (error) {\n",
              "            console.error('Error during call to suggestCharts:', error);\n",
              "          }\n",
              "          quickchartButtonEl.classList.remove('colab-df-spinner');\n",
              "          quickchartButtonEl.classList.add('colab-df-quickchart-complete');\n",
              "        }\n",
              "        (() => {\n",
              "          let quickchartButtonEl =\n",
              "            document.querySelector('#df-b59d8460-050e-4b92-a972-1675f44326f3 button');\n",
              "          quickchartButtonEl.style.display =\n",
              "            google.colab.kernel.accessAllowed ? 'block' : 'none';\n",
              "        })();\n",
              "      </script>\n",
              "    </div>\n",
              "\n",
              "    </div>\n",
              "  </div>\n"
            ],
            "application/vnd.google.colaboratory.intrinsic+json": {
              "type": "dataframe",
              "variable_name": "df",
              "repr_error": "cannot insert UNIXTime, already exists"
            }
          },
          "metadata": {},
          "execution_count": 35
        }
      ],
      "source": [
        "df.drop(['Data','Time','WindDirection(Degrees)','Hour', 'Month','Date','TimeSunRise','TimeSunSet'], inplace=True, axis=1)\n",
        "df.head()"
      ]
    },
    {
      "cell_type": "code",
      "execution_count": null,
      "metadata": {
        "id": "5soRlD0hTO3-",
        "colab": {
          "base_uri": "https://localhost:8080/"
        },
        "outputId": "5ebf9398-cc03-4b43-9991-9a24aa9b8094"
      },
      "outputs": [
        {
          "output_type": "stream",
          "name": "stdout",
          "text": [
            "(32686, 8)\n",
            "(32686, 1)\n",
            "<class 'numpy.ndarray'>\n"
          ]
        }
      ],
      "source": [
        "#Split the dataset into train and test data\n",
        "data = df.values\n",
        "\n",
        "X = data[:,2:10]\n",
        "Y = data[:,1]\n",
        "Y = Y.reshape(-1,1)\n",
        "\n",
        "print(X.shape)\n",
        "print(Y.shape)\n",
        "print(type(X))"
      ]
    },
    {
      "cell_type": "code",
      "execution_count": null,
      "metadata": {
        "id": "9elj82rpTSU4",
        "colab": {
          "base_uri": "https://localhost:8080/"
        },
        "outputId": "f3610c8f-b14a-482a-d3bd-9478d4e6e207"
      },
      "outputs": [
        {
          "output_type": "stream",
          "name": "stdout",
          "text": [
            "(26148, 8) (3269, 8) (3269, 8) (26148, 1) (3269, 1) (3269, 1)\n"
          ]
        }
      ],
      "source": [
        "#Scale the X and Y values to follow Standard Normal Distribution (SND). Therefore, it makes mean = 0 and scales the data to unit variance.\n",
        "#StandardScaler comes into play when the characteristics of the input dataset differ greatly between their ranges,\n",
        "#or simply when they are measured in different units of measure.\n",
        "from sklearn import preprocessing\n",
        "from sklearn.model_selection import train_test_split\n",
        "\n",
        "scaler_X = preprocessing.StandardScaler().fit(X)\n",
        "scaler_Y = preprocessing.StandardScaler().fit(Y)\n",
        "X_scale = scaler_X.transform(X)\n",
        "X_train, X_val_and_test, Y_train_unscaled, Y_val_and_test = train_test_split(X_scale, Y, test_size=0.2)\n",
        "X_val, X_test, Y_val_unscaled, Y_test_unscaled = train_test_split(X_val_and_test, Y_val_and_test, test_size=0.5)\n",
        "Y_train = scaler_Y.transform(Y_train_unscaled)\n",
        "Y_val =  scaler_Y.transform(Y_val_unscaled)\n",
        "Y_test =  scaler_Y.transform(Y_test_unscaled)\n",
        "print(X_train.shape, X_val.shape, X_test.shape, Y_train.shape, Y_val.shape, Y_test.shape)"
      ]
    },
    {
      "cell_type": "markdown",
      "metadata": {
        "id": "UDg6iiMAShIU"
      },
      "source": [
        "###**Question** : **Determine the percentage of the following data of the main dataset**\n",
        "Training data : 26148\n",
        "\n",
        "Validation data : 6538\n",
        "\n",
        "Test data : 3269"
      ]
    },
    {
      "cell_type": "code",
      "execution_count": null,
      "metadata": {
        "id": "TcAVP_k-TZG-"
      },
      "outputs": [],
      "source": [
        "# Simple Deep Neural Network\n",
        "from keras.models import Sequential\n",
        "from keras.layers import Dense\n",
        "\n",
        "model = Sequential()\n",
        "model.add(Dense(64, activation='relu', input_shape=(8,)))\n",
        "model.add(Dense(128, activation='relu'))\n",
        "model.add(Dense(256, activation='relu'))\n",
        "model.add(Dense(128, activation='relu'))\n",
        "model.add(Dense(64, activation='relu'))\n",
        "model.add(Dense(1, activation='linear'))"
      ]
    },
    {
      "cell_type": "code",
      "execution_count": null,
      "metadata": {
        "id": "SYi2AUok9bdO",
        "colab": {
          "base_uri": "https://localhost:8080/",
          "height": 321
        },
        "outputId": "042fb7ae-c711-4719-bd94-5944441ad742"
      },
      "outputs": [
        {
          "output_type": "display_data",
          "data": {
            "text/plain": [
              "\u001b[1mModel: \"sequential\"\u001b[0m\n"
            ],
            "text/html": [
              "<pre style=\"white-space:pre;overflow-x:auto;line-height:normal;font-family:Menlo,'DejaVu Sans Mono',consolas,'Courier New',monospace\"><span style=\"font-weight: bold\">Model: \"sequential\"</span>\n",
              "</pre>\n"
            ]
          },
          "metadata": {}
        },
        {
          "output_type": "display_data",
          "data": {
            "text/plain": [
              "┏━━━━━━━━━━━━━━━━━━━━━━━━━━━━━━━━━┳━━━━━━━━━━━━━━━━━━━━━━━━┳━━━━━━━━━━━━━━━┓\n",
              "┃\u001b[1m \u001b[0m\u001b[1mLayer (type)                   \u001b[0m\u001b[1m \u001b[0m┃\u001b[1m \u001b[0m\u001b[1mOutput Shape          \u001b[0m\u001b[1m \u001b[0m┃\u001b[1m \u001b[0m\u001b[1m      Param #\u001b[0m\u001b[1m \u001b[0m┃\n",
              "┡━━━━━━━━━━━━━━━━━━━━━━━━━━━━━━━━━╇━━━━━━━━━━━━━━━━━━━━━━━━╇━━━━━━━━━━━━━━━┩\n",
              "│ dense (\u001b[38;5;33mDense\u001b[0m)                   │ (\u001b[38;5;45mNone\u001b[0m, \u001b[38;5;34m64\u001b[0m)             │           \u001b[38;5;34m576\u001b[0m │\n",
              "├─────────────────────────────────┼────────────────────────┼───────────────┤\n",
              "│ dense_1 (\u001b[38;5;33mDense\u001b[0m)                 │ (\u001b[38;5;45mNone\u001b[0m, \u001b[38;5;34m128\u001b[0m)            │         \u001b[38;5;34m8,320\u001b[0m │\n",
              "├─────────────────────────────────┼────────────────────────┼───────────────┤\n",
              "│ dense_2 (\u001b[38;5;33mDense\u001b[0m)                 │ (\u001b[38;5;45mNone\u001b[0m, \u001b[38;5;34m256\u001b[0m)            │        \u001b[38;5;34m33,024\u001b[0m │\n",
              "├─────────────────────────────────┼────────────────────────┼───────────────┤\n",
              "│ dense_3 (\u001b[38;5;33mDense\u001b[0m)                 │ (\u001b[38;5;45mNone\u001b[0m, \u001b[38;5;34m128\u001b[0m)            │        \u001b[38;5;34m32,896\u001b[0m │\n",
              "├─────────────────────────────────┼────────────────────────┼───────────────┤\n",
              "│ dense_4 (\u001b[38;5;33mDense\u001b[0m)                 │ (\u001b[38;5;45mNone\u001b[0m, \u001b[38;5;34m64\u001b[0m)             │         \u001b[38;5;34m8,256\u001b[0m │\n",
              "├─────────────────────────────────┼────────────────────────┼───────────────┤\n",
              "│ dense_5 (\u001b[38;5;33mDense\u001b[0m)                 │ (\u001b[38;5;45mNone\u001b[0m, \u001b[38;5;34m1\u001b[0m)              │            \u001b[38;5;34m65\u001b[0m │\n",
              "└─────────────────────────────────┴────────────────────────┴───────────────┘\n"
            ],
            "text/html": [
              "<pre style=\"white-space:pre;overflow-x:auto;line-height:normal;font-family:Menlo,'DejaVu Sans Mono',consolas,'Courier New',monospace\">┏━━━━━━━━━━━━━━━━━━━━━━━━━━━━━━━━━┳━━━━━━━━━━━━━━━━━━━━━━━━┳━━━━━━━━━━━━━━━┓\n",
              "┃<span style=\"font-weight: bold\"> Layer (type)                    </span>┃<span style=\"font-weight: bold\"> Output Shape           </span>┃<span style=\"font-weight: bold\">       Param # </span>┃\n",
              "┡━━━━━━━━━━━━━━━━━━━━━━━━━━━━━━━━━╇━━━━━━━━━━━━━━━━━━━━━━━━╇━━━━━━━━━━━━━━━┩\n",
              "│ dense (<span style=\"color: #0087ff; text-decoration-color: #0087ff\">Dense</span>)                   │ (<span style=\"color: #00d7ff; text-decoration-color: #00d7ff\">None</span>, <span style=\"color: #00af00; text-decoration-color: #00af00\">64</span>)             │           <span style=\"color: #00af00; text-decoration-color: #00af00\">576</span> │\n",
              "├─────────────────────────────────┼────────────────────────┼───────────────┤\n",
              "│ dense_1 (<span style=\"color: #0087ff; text-decoration-color: #0087ff\">Dense</span>)                 │ (<span style=\"color: #00d7ff; text-decoration-color: #00d7ff\">None</span>, <span style=\"color: #00af00; text-decoration-color: #00af00\">128</span>)            │         <span style=\"color: #00af00; text-decoration-color: #00af00\">8,320</span> │\n",
              "├─────────────────────────────────┼────────────────────────┼───────────────┤\n",
              "│ dense_2 (<span style=\"color: #0087ff; text-decoration-color: #0087ff\">Dense</span>)                 │ (<span style=\"color: #00d7ff; text-decoration-color: #00d7ff\">None</span>, <span style=\"color: #00af00; text-decoration-color: #00af00\">256</span>)            │        <span style=\"color: #00af00; text-decoration-color: #00af00\">33,024</span> │\n",
              "├─────────────────────────────────┼────────────────────────┼───────────────┤\n",
              "│ dense_3 (<span style=\"color: #0087ff; text-decoration-color: #0087ff\">Dense</span>)                 │ (<span style=\"color: #00d7ff; text-decoration-color: #00d7ff\">None</span>, <span style=\"color: #00af00; text-decoration-color: #00af00\">128</span>)            │        <span style=\"color: #00af00; text-decoration-color: #00af00\">32,896</span> │\n",
              "├─────────────────────────────────┼────────────────────────┼───────────────┤\n",
              "│ dense_4 (<span style=\"color: #0087ff; text-decoration-color: #0087ff\">Dense</span>)                 │ (<span style=\"color: #00d7ff; text-decoration-color: #00d7ff\">None</span>, <span style=\"color: #00af00; text-decoration-color: #00af00\">64</span>)             │         <span style=\"color: #00af00; text-decoration-color: #00af00\">8,256</span> │\n",
              "├─────────────────────────────────┼────────────────────────┼───────────────┤\n",
              "│ dense_5 (<span style=\"color: #0087ff; text-decoration-color: #0087ff\">Dense</span>)                 │ (<span style=\"color: #00d7ff; text-decoration-color: #00d7ff\">None</span>, <span style=\"color: #00af00; text-decoration-color: #00af00\">1</span>)              │            <span style=\"color: #00af00; text-decoration-color: #00af00\">65</span> │\n",
              "└─────────────────────────────────┴────────────────────────┴───────────────┘\n",
              "</pre>\n"
            ]
          },
          "metadata": {}
        },
        {
          "output_type": "display_data",
          "data": {
            "text/plain": [
              "\u001b[1m Total params: \u001b[0m\u001b[38;5;34m83,137\u001b[0m (324.75 KB)\n"
            ],
            "text/html": [
              "<pre style=\"white-space:pre;overflow-x:auto;line-height:normal;font-family:Menlo,'DejaVu Sans Mono',consolas,'Courier New',monospace\"><span style=\"font-weight: bold\"> Total params: </span><span style=\"color: #00af00; text-decoration-color: #00af00\">83,137</span> (324.75 KB)\n",
              "</pre>\n"
            ]
          },
          "metadata": {}
        },
        {
          "output_type": "display_data",
          "data": {
            "text/plain": [
              "\u001b[1m Trainable params: \u001b[0m\u001b[38;5;34m83,137\u001b[0m (324.75 KB)\n"
            ],
            "text/html": [
              "<pre style=\"white-space:pre;overflow-x:auto;line-height:normal;font-family:Menlo,'DejaVu Sans Mono',consolas,'Courier New',monospace\"><span style=\"font-weight: bold\"> Trainable params: </span><span style=\"color: #00af00; text-decoration-color: #00af00\">83,137</span> (324.75 KB)\n",
              "</pre>\n"
            ]
          },
          "metadata": {}
        },
        {
          "output_type": "display_data",
          "data": {
            "text/plain": [
              "\u001b[1m Non-trainable params: \u001b[0m\u001b[38;5;34m0\u001b[0m (0.00 B)\n"
            ],
            "text/html": [
              "<pre style=\"white-space:pre;overflow-x:auto;line-height:normal;font-family:Menlo,'DejaVu Sans Mono',consolas,'Courier New',monospace\"><span style=\"font-weight: bold\"> Non-trainable params: </span><span style=\"color: #00af00; text-decoration-color: #00af00\">0</span> (0.00 B)\n",
              "</pre>\n"
            ]
          },
          "metadata": {}
        }
      ],
      "source": [
        "model.summary()"
      ]
    },
    {
      "cell_type": "markdown",
      "metadata": {
        "id": "kBXKs-u680Db"
      },
      "source": [
        "###**Question** : **How many hidden layers are in this neural network?**"
      ]
    },
    {
      "cell_type": "markdown",
      "metadata": {
        "id": "IXoPgl21Yqyv"
      },
      "source": [
        "The batch size is a hyperparameter of gradient descent that controls the number of training samples to work through before the model’s internal parameters/weights are updated.\n",
        "An epoch is a term used in machine learning and indicates the number of passes of the entire training dataset the machine learning algorithm has completed."
      ]
    },
    {
      "cell_type": "code",
      "execution_count": null,
      "metadata": {
        "id": "KlOCXlS2Tcxo",
        "colab": {
          "base_uri": "https://localhost:8080/"
        },
        "outputId": "ca378170-b2ca-40f7-b794-a2eed4eb33b5"
      },
      "outputs": [
        {
          "output_type": "stream",
          "name": "stdout",
          "text": [
            "Epoch 1/10\n",
            "\u001b[1m818/818\u001b[0m \u001b[32m━━━━━━━━━━━━━━━━━━━━\u001b[0m\u001b[37m\u001b[0m \u001b[1m7s\u001b[0m 5ms/step - loss: 0.3662 - mse: 0.3662 - val_loss: 0.2975 - val_mse: 0.2975\n",
            "Epoch 2/10\n",
            "\u001b[1m818/818\u001b[0m \u001b[32m━━━━━━━━━━━━━━━━━━━━\u001b[0m\u001b[37m\u001b[0m \u001b[1m4s\u001b[0m 5ms/step - loss: 0.2529 - mse: 0.2529 - val_loss: 0.2455 - val_mse: 0.2455\n",
            "Epoch 3/10\n",
            "\u001b[1m818/818\u001b[0m \u001b[32m━━━━━━━━━━━━━━━━━━━━\u001b[0m\u001b[37m\u001b[0m \u001b[1m5s\u001b[0m 6ms/step - loss: 0.2294 - mse: 0.2294 - val_loss: 0.2292 - val_mse: 0.2292\n",
            "Epoch 4/10\n",
            "\u001b[1m818/818\u001b[0m \u001b[32m━━━━━━━━━━━━━━━━━━━━\u001b[0m\u001b[37m\u001b[0m \u001b[1m4s\u001b[0m 5ms/step - loss: 0.2123 - mse: 0.2123 - val_loss: 0.2331 - val_mse: 0.2331\n",
            "Epoch 5/10\n",
            "\u001b[1m818/818\u001b[0m \u001b[32m━━━━━━━━━━━━━━━━━━━━\u001b[0m\u001b[37m\u001b[0m \u001b[1m4s\u001b[0m 5ms/step - loss: 0.2044 - mse: 0.2044 - val_loss: 0.2033 - val_mse: 0.2033\n",
            "Epoch 6/10\n",
            "\u001b[1m818/818\u001b[0m \u001b[32m━━━━━━━━━━━━━━━━━━━━\u001b[0m\u001b[37m\u001b[0m \u001b[1m5s\u001b[0m 6ms/step - loss: 0.1954 - mse: 0.1954 - val_loss: 0.1974 - val_mse: 0.1974\n",
            "Epoch 7/10\n",
            "\u001b[1m818/818\u001b[0m \u001b[32m━━━━━━━━━━━━━━━━━━━━\u001b[0m\u001b[37m\u001b[0m \u001b[1m4s\u001b[0m 5ms/step - loss: 0.1815 - mse: 0.1815 - val_loss: 0.1961 - val_mse: 0.1961\n",
            "Epoch 8/10\n",
            "\u001b[1m818/818\u001b[0m \u001b[32m━━━━━━━━━━━━━━━━━━━━\u001b[0m\u001b[37m\u001b[0m \u001b[1m6s\u001b[0m 6ms/step - loss: 0.1821 - mse: 0.1821 - val_loss: 0.1872 - val_mse: 0.1872\n",
            "Epoch 9/10\n",
            "\u001b[1m818/818\u001b[0m \u001b[32m━━━━━━━━━━━━━━━━━━━━\u001b[0m\u001b[37m\u001b[0m \u001b[1m4s\u001b[0m 5ms/step - loss: 0.1717 - mse: 0.1717 - val_loss: 0.1963 - val_mse: 0.1963\n",
            "Epoch 10/10\n",
            "\u001b[1m818/818\u001b[0m \u001b[32m━━━━━━━━━━━━━━━━━━━━\u001b[0m\u001b[37m\u001b[0m \u001b[1m5s\u001b[0m 5ms/step - loss: 0.1708 - mse: 0.1708 - val_loss: 0.1858 - val_mse: 0.1858\n"
          ]
        }
      ],
      "source": [
        "from tensorflow.keras.optimizers import Adam\n",
        "\n",
        "model.compile(loss='mse', optimizer='adam', metrics=['mse'])\n",
        "hist = model.fit(X_train, Y_train,\n",
        "                batch_size=32, epochs=10,\n",
        "                validation_data=(X_val, Y_val))"
      ]
    },
    {
      "cell_type": "code",
      "execution_count": null,
      "metadata": {
        "id": "zAz-R2AvTkOc",
        "colab": {
          "base_uri": "https://localhost:8080/"
        },
        "outputId": "0d9ac1b5-daaf-40cc-f983-273c9fffed50"
      },
      "outputs": [
        {
          "output_type": "stream",
          "name": "stdout",
          "text": [
            "\u001b[1m103/103\u001b[0m \u001b[32m━━━━━━━━━━━━━━━━━━━━\u001b[0m\u001b[37m\u001b[0m \u001b[1m0s\u001b[0m 2ms/step - loss: 0.2002 - mse: 0.2002\n"
          ]
        },
        {
          "output_type": "execute_result",
          "data": {
            "text/plain": [
              "[0.20471036434173584, 0.20471036434173584]"
            ]
          },
          "metadata": {},
          "execution_count": 41
        }
      ],
      "source": [
        "model.evaluate(X_test, Y_test)"
      ]
    },
    {
      "cell_type": "code",
      "execution_count": null,
      "metadata": {
        "id": "qkbipQXlTl3m",
        "colab": {
          "base_uri": "https://localhost:8080/"
        },
        "outputId": "89a64453-b351-460b-9c90-2461236aa6ab"
      },
      "outputs": [
        {
          "output_type": "stream",
          "name": "stdout",
          "text": [
            "\u001b[1m103/103\u001b[0m \u001b[32m━━━━━━━━━━━━━━━━━━━━\u001b[0m\u001b[37m\u001b[0m \u001b[1m0s\u001b[0m 2ms/step\n",
            "[[822.4633  ]\n",
            " [  7.013842]\n",
            " [ 17.449114]\n",
            " ...\n",
            " [ 10.674853]\n",
            " [ 26.78406 ]\n",
            " [805.17883 ]]\n",
            "[[1153.38]\n",
            " [  88.38]\n",
            " [  22.06]\n",
            " ...\n",
            " [   1.21]\n",
            " [   1.21]\n",
            " [1013.88]]\n"
          ]
        }
      ],
      "source": [
        "Y_result_scaled= model.predict(X_test)\n",
        "Y_result = scaler_Y.inverse_transform(Y_result_scaled)\n",
        "print(Y_result)\n",
        "print(Y_test_unscaled.reshape(Y_result.shape))"
      ]
    },
    {
      "cell_type": "code",
      "execution_count": null,
      "metadata": {
        "id": "W8w6Xtb_T_Je",
        "colab": {
          "base_uri": "https://localhost:8080/",
          "height": 432
        },
        "outputId": "b1e61709-8b9d-400e-b5a6-f7d1d13e6485"
      },
      "outputs": [
        {
          "output_type": "display_data",
          "data": {
            "text/plain": [
              "<Figure size 640x480 with 1 Axes>"
            ],
            "image/png": "[encoded data removed]"
          },
          "metadata": {}
        }
      ],
      "source": [
        "import numpy as np\n",
        "import matplotlib.pyplot as plt\n",
        "\n",
        "axis_x = [i for i in range(100)]\n",
        "\n",
        "plt.plot(axis_x, Y_result[:100], label='predict')\n",
        "plt.plot(axis_x, Y_test_unscaled[:100], label='actual')\n",
        "plt.legend()\n",
        "plt.show()"
      ]
    },
    {
      "cell_type": "code",
      "execution_count": null,
      "metadata": {
        "id": "C98Tn6etUEBz",
        "colab": {
          "base_uri": "https://localhost:8080/"
        },
        "outputId": "464b9cbc-bf80-406a-df8a-ce2d2c3c7810"
      },
      "outputs": [
        {
          "output_type": "stream",
          "name": "stdout",
          "text": [
            "explained variance = 0.7949727657661478\n",
            "mse = 20430.116298933193\n",
            "r2 = 0.7947566864943052\n"
          ]
        }
      ],
      "source": [
        "from sklearn.metrics import explained_variance_score, mean_squared_error, r2_score\n",
        "\n",
        "explained_variance_score = explained_variance_score(Y_test_unscaled.reshape(Y_result.shape), Y_result)\n",
        "mean_squared_error = mean_squared_error(Y_test_unscaled.reshape(Y_result.shape), Y_result)\n",
        "r_squared = r2_score(Y_test_unscaled.reshape(Y_result.shape), Y_result)\n",
        "print('explained variance = {}'.format(explained_variance_score))\n",
        "print('mse = {}'.format(mean_squared_error))\n",
        "print('r2 = {}'.format(r_squared))"
      ]
    },
    {
      "cell_type": "markdown",
      "metadata": {
        "id": "u67z4v_dU2KV"
      },
      "source": [
        "###**Question** : **Change the values of batch and epoch to observe the change in model performance. I.e copy and paste the code on model.compile and tweak the epoch values keeping batch as constant. Then tweak the batch values, keeping epoch value as constant. Identify ONE combination of batch values (32, 64, 128) and epoch values that gives better model performance in terms of r2 score**\n",
        "Batch value :\n",
        "\n",
        "5 = 0.82634560567967436\n",
        "\n",
        "10 = 0.8574012917463423\n",
        "\n",
        "15 = 0.8668924997536652\n",
        "\n",
        "Epoch value :\n",
        "\n",
        "32 = 0.8574012917463423\n",
        "\n",
        "64 = 0.8599651576277074\n",
        "\n",
        "128 = 0.8665920297872002\n",
        "\n",
        "r2 value = 0.8668924997536652"
      ]
    },
    {
      "cell_type": "code",
      "source": [
        "from tensorflow.keras.optimizers import Adam\n",
        "\n",
        "model.compile(loss='mse', optimizer='adam', metrics=['mse'])\n",
        "hist = model.fit(X_train, Y_train,\n",
        "                batch_size=128, epochs=10,\n",
        "                validation_data=(X_val, Y_val))"
      ],
      "metadata": {
        "colab": {
          "base_uri": "https://localhost:8080/"
        },
        "id": "o5O9t2hSrO-G",
        "outputId": "249462d6-5454-41d9-ac89-e74a32a3825a"
      },
      "execution_count": null,
      "outputs": [
        {
          "output_type": "stream",
          "name": "stdout",
          "text": [
            "Epoch 1/10\n",
            "\u001b[1m205/205\u001b[0m \u001b[32m━━━━━━━━━━━━━━━━━━━━\u001b[0m\u001b[37m\u001b[0m \u001b[1m6s\u001b[0m 8ms/step - loss: 0.0544 - mse: 0.0544 - val_loss: 0.1150 - val_mse: 0.1150\n",
            "Epoch 2/10\n",
            "\u001b[1m205/205\u001b[0m \u001b[32m━━━━━━━━━━━━━━━━━━━━\u001b[0m\u001b[37m\u001b[0m \u001b[1m2s\u001b[0m 7ms/step - loss: 0.0475 - mse: 0.0475 - val_loss: 0.1199 - val_mse: 0.1199\n",
            "Epoch 3/10\n",
            "\u001b[1m205/205\u001b[0m \u001b[32m━━━━━━━━━━━━━━━━━━━━\u001b[0m\u001b[37m\u001b[0m \u001b[1m2s\u001b[0m 7ms/step - loss: 0.0495 - mse: 0.0495 - val_loss: 0.1197 - val_mse: 0.1197\n",
            "Epoch 4/10\n",
            "\u001b[1m205/205\u001b[0m \u001b[32m━━━━━━━━━━━━━━━━━━━━\u001b[0m\u001b[37m\u001b[0m \u001b[1m2s\u001b[0m 7ms/step - loss: 0.0432 - mse: 0.0432 - val_loss: 0.1163 - val_mse: 0.1163\n",
            "Epoch 5/10\n",
            "\u001b[1m205/205\u001b[0m \u001b[32m━━━━━━━━━━━━━━━━━━━━\u001b[0m\u001b[37m\u001b[0m \u001b[1m3s\u001b[0m 12ms/step - loss: 0.0467 - mse: 0.0467 - val_loss: 0.1143 - val_mse: 0.1143\n",
            "Epoch 6/10\n",
            "\u001b[1m205/205\u001b[0m \u001b[32m━━━━━━━━━━━━━━━━━━━━\u001b[0m\u001b[37m\u001b[0m \u001b[1m2s\u001b[0m 8ms/step - loss: 0.0441 - mse: 0.0441 - val_loss: 0.1193 - val_mse: 0.1193\n",
            "Epoch 7/10\n",
            "\u001b[1m205/205\u001b[0m \u001b[32m━━━━━━━━━━━━━━━━━━━━\u001b[0m\u001b[37m\u001b[0m \u001b[1m2s\u001b[0m 8ms/step - loss: 0.0436 - mse: 0.0436 - val_loss: 0.1211 - val_mse: 0.1211\n",
            "Epoch 8/10\n",
            "\u001b[1m205/205\u001b[0m \u001b[32m━━━━━━━━━━━━━━━━━━━━\u001b[0m\u001b[37m\u001b[0m \u001b[1m2s\u001b[0m 7ms/step - loss: 0.0445 - mse: 0.0445 - val_loss: 0.1184 - val_mse: 0.1184\n",
            "Epoch 9/10\n",
            "\u001b[1m205/205\u001b[0m \u001b[32m━━━━━━━━━━━━━━━━━━━━\u001b[0m\u001b[37m\u001b[0m \u001b[1m2s\u001b[0m 8ms/step - loss: 0.0437 - mse: 0.0437 - val_loss: 0.1234 - val_mse: 0.1234\n",
            "Epoch 10/10\n",
            "\u001b[1m205/205\u001b[0m \u001b[32m━━━━━━━━━━━━━━━━━━━━\u001b[0m\u001b[37m\u001b[0m \u001b[1m1s\u001b[0m 7ms/step - loss: 0.0435 - mse: 0.0435 - val_loss: 0.1187 - val_mse: 0.1187\n"
          ]
        }
      ]
    },
    {
      "cell_type": "code",
      "source": [
        "model.evaluate(X_test, Y_test)"
      ],
      "metadata": {
        "colab": {
          "base_uri": "https://localhost:8080/"
        },
        "id": "G0ltH5dKrTog",
        "outputId": "02eeb515-6097-49df-a763-1ebb82cd01a0"
      },
      "execution_count": null,
      "outputs": [
        {
          "output_type": "stream",
          "name": "stdout",
          "text": [
            "\u001b[1m103/103\u001b[0m \u001b[32m━━━━━━━━━━━━━━━━━━━━\u001b[0m\u001b[37m\u001b[0m \u001b[1m1s\u001b[0m 5ms/step - loss: 0.1278 - mse: 0.1278\n"
          ]
        },
        {
          "output_type": "execute_result",
          "data": {
            "text/plain": [
              "[0.13306160271167755, 0.13306160271167755]"
            ]
          },
          "metadata": {},
          "execution_count": 74
        }
      ]
    },
    {
      "cell_type": "code",
      "source": [
        "Y_result_scaled= model.predict(X_test)\n",
        "Y_result = scaler_Y.inverse_transform(Y_result_scaled)\n",
        "print(Y_result)\n",
        "print(Y_test_unscaled.reshape(Y_result.shape))"
      ],
      "metadata": {
        "colab": {
          "base_uri": "https://localhost:8080/"
        },
        "id": "9hVXLK3zrWdd",
        "outputId": "87cd9901-f6a5-46f4-da93-f3d69db39d70"
      },
      "execution_count": null,
      "outputs": [
        {
          "output_type": "stream",
          "name": "stdout",
          "text": [
            "\u001b[1m103/103\u001b[0m \u001b[32m━━━━━━━━━━━━━━━━━━━━\u001b[0m\u001b[37m\u001b[0m \u001b[1m1s\u001b[0m 3ms/step\n",
            "[[ 9.4532123e+02]\n",
            " [ 3.3187129e+00]\n",
            " [-2.1426060e+00]\n",
            " ...\n",
            " [-3.7069443e-01]\n",
            " [ 1.3585467e+01]\n",
            " [ 1.0386526e+03]]\n",
            "[[1153.38]\n",
            " [  88.38]\n",
            " [  22.06]\n",
            " ...\n",
            " [   1.21]\n",
            " [   1.21]\n",
            " [1013.88]]\n"
          ]
        }
      ]
    },
    {
      "cell_type": "code",
      "source": [
        "from sklearn.metrics import explained_variance_score, mean_squared_error, r2_score\n",
        "\n",
        "explained_variance_score = explained_variance_score(Y_test_unscaled.reshape(Y_result.shape), Y_result)\n",
        "mean_squared_error = mean_squared_error(Y_test_unscaled.reshape(Y_result.shape), Y_result)\n",
        "r_squared = r2_score(Y_test_unscaled.reshape(Y_result.shape), Y_result)\n",
        "print('explained variance = {}'.format(explained_variance_score))\n",
        "print('mse = {}'.format(mean_squared_error))\n",
        "print('r2 = {}'.format(r_squared))"
      ],
      "metadata": {
        "colab": {
          "base_uri": "https://localhost:8080/"
        },
        "id": "PtHj_JlyrZ4L",
        "outputId": "6ffdc265-87d6-436d-a74f-7946cc5caa1e"
      },
      "execution_count": null,
      "outputs": [
        {
          "output_type": "stream",
          "name": "stdout",
          "text": [
            "explained variance = 0.8667173330951451\n",
            "mse = 13279.557321980637\n",
            "r2 = 0.8665920297872002\n"
          ]
        }
      ]
    },
    {
      "cell_type": "markdown",
      "metadata": {
        "id": "l4BQZLoHVeYC"
      },
      "source": [
        "###**Question** : **Add one more Dense layer and observe the change in model performance**\n",
        "\n",
        "new r2 score : 0.7804600272341342"
      ]
    },
    {
      "cell_type": "code",
      "source": [
        "# Simple Deep Neural Network\n",
        "from keras.models import Sequential\n",
        "from keras.layers import Dense\n",
        "\n",
        "model = Sequential()\n",
        "model.add(Dense(64, activation='relu', input_shape=(8,)))\n",
        "model.add(Dense(128, activation='relu'))\n",
        "model.add(Dense(256, activation='relu'))\n",
        "model.add(Dense(128, activation='relu'))\n",
        "model.add(Dense(64, activation='relu'))\n",
        "model.add(Dense(128, activation='relu'))\n",
        "model.add(Dense(1, activation='linear'))\n",
        "\n"
      ],
      "metadata": {
        "id": "NzuZg4qovI4H"
      },
      "execution_count": null,
      "outputs": []
    },
    {
      "cell_type": "code",
      "source": [
        "from tensorflow.keras.optimizers import Adam\n",
        "\n",
        "model.compile(loss='mse', optimizer='adam', metrics=['mse'])\n",
        "hist = model.fit(X_train, Y_train,\n",
        "                batch_size=32, epochs=10,\n",
        "                validation_data=(X_val, Y_val))"
      ],
      "metadata": {
        "colab": {
          "base_uri": "https://localhost:8080/"
        },
        "id": "j3nIOFAhvVuF",
        "outputId": "28a0d935-d782-409a-e45e-7fff5d272775"
      },
      "execution_count": null,
      "outputs": [
        {
          "output_type": "stream",
          "name": "stdout",
          "text": [
            "Epoch 1/10\n",
            "\u001b[1m818/818\u001b[0m \u001b[32m━━━━━━━━━━━━━━━━━━━━\u001b[0m\u001b[37m\u001b[0m \u001b[1m7s\u001b[0m 4ms/step - loss: 0.3547 - mse: 0.3547 - val_loss: 0.3019 - val_mse: 0.3019\n",
            "Epoch 2/10\n",
            "\u001b[1m818/818\u001b[0m \u001b[32m━━━━━━━━━━━━━━━━━━━━\u001b[0m\u001b[37m\u001b[0m \u001b[1m5s\u001b[0m 4ms/step - loss: 0.2539 - mse: 0.2539 - val_loss: 0.2519 - val_mse: 0.2519\n",
            "Epoch 3/10\n",
            "\u001b[1m818/818\u001b[0m \u001b[32m━━━━━━━━━━━━━━━━━━━━\u001b[0m\u001b[37m\u001b[0m \u001b[1m4s\u001b[0m 5ms/step - loss: 0.2286 - mse: 0.2286 - val_loss: 0.2259 - val_mse: 0.2259\n",
            "Epoch 4/10\n",
            "\u001b[1m818/818\u001b[0m \u001b[32m━━━━━━━━━━━━━━━━━━━━\u001b[0m\u001b[37m\u001b[0m \u001b[1m3s\u001b[0m 4ms/step - loss: 0.2180 - mse: 0.2180 - val_loss: 0.2244 - val_mse: 0.2244\n",
            "Epoch 5/10\n",
            "\u001b[1m818/818\u001b[0m \u001b[32m━━━━━━━━━━━━━━━━━━━━\u001b[0m\u001b[37m\u001b[0m \u001b[1m3s\u001b[0m 4ms/step - loss: 0.2107 - mse: 0.2107 - val_loss: 0.2284 - val_mse: 0.2284\n",
            "Epoch 6/10\n",
            "\u001b[1m818/818\u001b[0m \u001b[32m━━━━━━━━━━━━━━━━━━━━\u001b[0m\u001b[37m\u001b[0m \u001b[1m6s\u001b[0m 5ms/step - loss: 0.2004 - mse: 0.2004 - val_loss: 0.2094 - val_mse: 0.2094\n",
            "Epoch 7/10\n",
            "\u001b[1m818/818\u001b[0m \u001b[32m━━━━━━━━━━━━━━━━━━━━\u001b[0m\u001b[37m\u001b[0m \u001b[1m3s\u001b[0m 4ms/step - loss: 0.1966 - mse: 0.1966 - val_loss: 0.2041 - val_mse: 0.2041\n",
            "Epoch 8/10\n",
            "\u001b[1m818/818\u001b[0m \u001b[32m━━━━━━━━━━━━━━━━━━━━\u001b[0m\u001b[37m\u001b[0m \u001b[1m4s\u001b[0m 5ms/step - loss: 0.1857 - mse: 0.1857 - val_loss: 0.1989 - val_mse: 0.1989\n",
            "Epoch 9/10\n",
            "\u001b[1m818/818\u001b[0m \u001b[32m━━━━━━━━━━━━━━━━━━━━\u001b[0m\u001b[37m\u001b[0m \u001b[1m5s\u001b[0m 5ms/step - loss: 0.1839 - mse: 0.1839 - val_loss: 0.1989 - val_mse: 0.1989\n",
            "Epoch 10/10\n",
            "\u001b[1m818/818\u001b[0m \u001b[32m━━━━━━━━━━━━━━━━━━━━\u001b[0m\u001b[37m\u001b[0m \u001b[1m4s\u001b[0m 4ms/step - loss: 0.1794 - mse: 0.1794 - val_loss: 0.1950 - val_mse: 0.1950\n"
          ]
        }
      ]
    },
    {
      "cell_type": "code",
      "source": [
        "model.evaluate(X_test, Y_test)"
      ],
      "metadata": {
        "colab": {
          "base_uri": "https://localhost:8080/"
        },
        "id": "X_qt1XOHvbzl",
        "outputId": "bfaff3a9-73f1-4b04-a91d-41ac734f99b5"
      },
      "execution_count": null,
      "outputs": [
        {
          "output_type": "stream",
          "name": "stdout",
          "text": [
            "\u001b[1m103/103\u001b[0m \u001b[32m━━━━━━━━━━━━━━━━━━━━\u001b[0m\u001b[37m\u001b[0m \u001b[1m0s\u001b[0m 2ms/step - loss: 0.2182 - mse: 0.2182\n"
          ]
        },
        {
          "output_type": "execute_result",
          "data": {
            "text/plain": [
              "[0.21896992623806, 0.21896992623806]"
            ]
          },
          "metadata": {},
          "execution_count": 87
        }
      ]
    },
    {
      "cell_type": "code",
      "source": [
        "Y_result_scaled= model.predict(X_test)\n",
        "Y_result = scaler_Y.inverse_transform(Y_result_scaled)\n",
        "print(Y_result)\n",
        "print(Y_test_unscaled.reshape(Y_result.shape))"
      ],
      "metadata": {
        "colab": {
          "base_uri": "https://localhost:8080/"
        },
        "id": "YpcghYTovd9A",
        "outputId": "227e984a-6869-4c7a-c1bc-b27fcd9fa3d0"
      },
      "execution_count": null,
      "outputs": [
        {
          "output_type": "stream",
          "name": "stdout",
          "text": [
            "\u001b[1m103/103\u001b[0m \u001b[32m━━━━━━━━━━━━━━━━━━━━\u001b[0m\u001b[37m\u001b[0m \u001b[1m0s\u001b[0m 2ms/step\n",
            "[[778.342    ]\n",
            " [ 45.33521  ]\n",
            " [  2.5753047]\n",
            " ...\n",
            " [  1.4916103]\n",
            " [ 50.30115  ]\n",
            " [889.25946  ]]\n",
            "[[1153.38]\n",
            " [  88.38]\n",
            " [  22.06]\n",
            " ...\n",
            " [   1.21]\n",
            " [   1.21]\n",
            " [1013.88]]\n"
          ]
        }
      ]
    },
    {
      "cell_type": "code",
      "source": [
        "from sklearn.metrics import explained_variance_score, mean_squared_error, r2_score\n",
        "\n",
        "explained_variance_score = explained_variance_score(Y_test_unscaled.reshape(Y_result.shape), Y_result)\n",
        "mean_squared_error = mean_squared_error(Y_test_unscaled.reshape(Y_result.shape), Y_result)\n",
        "r_squared = r2_score(Y_test_unscaled.reshape(Y_result.shape), Y_result)\n",
        "print('explained variance = {}'.format(explained_variance_score))\n",
        "print('mse = {}'.format(mean_squared_error))\n",
        "print('r2 = {}'.format(r_squared))"
      ],
      "metadata": {
        "colab": {
          "base_uri": "https://localhost:8080/"
        },
        "id": "SW0FOQtfvg6A",
        "outputId": "2d649a6d-0f29-42bc-8077-1412eaa72a2e"
      },
      "execution_count": null,
      "outputs": [
        {
          "output_type": "stream",
          "name": "stdout",
          "text": [
            "explained variance = 0.7833744159924417\n",
            "mse = 21853.219475268386\n",
            "r2 = 0.7804600272341342\n"
          ]
        }
      ]
    },
    {
      "cell_type": "markdown",
      "metadata": {
        "id": "df6VYk9Ho4n4"
      },
      "source": [
        "##**Question**\n",
        "\n",
        "###Find out what feature engineering is briefly and determine whether you applied feature engineering in this colab file."
      ]
    },
    {
      "cell_type": "markdown",
      "source": [
        "Feature engineering is the process of creating new features from existing data to improve the performance of machine learning models.\n",
        "\n",
        "Yes, feature engineering was applied in this Colab file in the following cell:\n",
        "\n",
        "In this cell, new features such as 'MonthOfYear', 'DayOfYear', 'WeekOfYear', 'Hour', 'Month', 'Date', and 'Total_time' were created from the existing 'UNIXTime', 'TimeSunRise', and 'TimeSunSet' columns. This is a form of feature engineering as you are creating new, potentially more informative features for your model."
      ],
      "metadata": {
        "id": "nR6gSoTmwTCF"
      }
    }
  ],
  "metadata": {
    "colab": {
      "provenance": []
    },
    "kernelspec": {
      "display_name": "Python 3",
      "language": "python",
      "name": "python3"
    },
    "language_info": {
      "codemirror_mode": {
        "name": "ipython",
        "version": 3
      },
      "file_extension": ".py",
      "mimetype": "text/x-python",
      "name": "python",
      "nbconvert_exporter": "python",
      "pygments_lexer": "ipython3",
      "version": "3.6.4"
    }
  },
  "nbformat": 4,
  "nbformat_minor": 0
}